{
  "nbformat": 4,
  "nbformat_minor": 0,
  "metadata": {
    "kernelspec": {
      "display_name": "Python 3",
      "language": "python",
      "name": "python3"
    },
    "language_info": {
      "codemirror_mode": {
        "name": "ipython",
        "version": 3
      },
      "file_extension": ".py",
      "mimetype": "text/x-python",
      "name": "python",
      "nbconvert_exporter": "python",
      "pygments_lexer": "ipython3",
      "version": "3.7.3"
    },
    "colab": {
      "name": "Project_CUS615_corrected_final.ipynb",
      "provenance": [],
      "collapsed_sections": []
    }
  },
  "cells": [
    {
      "cell_type": "code",
      "metadata": {
        "id": "EDnApClPO7qB",
        "colab_type": "code",
        "outputId": "04be664d-8253-47d9-9c60-8dcddceaef4a",
        "colab": {
          "base_uri": "https://localhost:8080/",
          "height": 105
        }
      },
      "source": [
        "from sklearn.linear_model import LogisticRegression\n",
        "from sklearn.neighbors import KNeighborsClassifier\n",
        "from sklearn.ensemble import RandomForestClassifier\n",
        "from sklearn.tree import DecisionTreeClassifier\n",
        "from sklearn.model_selection import StratifiedKFold\n",
        "from sklearn.model_selection import train_test_split\n",
        "from imblearn.over_sampling import SMOTE\n",
        "from sklearn.svm import SVC\n",
        "from sklearn import svm \n",
        "from sklearn.model_selection import GridSearchCV\n",
        "from sklearn.model_selection import cross_val_score\n",
        "from sklearn.model_selection import cross_validate\n",
        "from sklearn.metrics import accuracy_score\n",
        "from sklearn.model_selection import KFold\n",
        "import matplotlib.pyplot as plt\n",
        "from sklearn import metrics\n",
        "import warnings\n",
        "warnings.filterwarnings('ignore') \n",
        "import sklearn  \n",
        "import sklearn.ensemble \n",
        "%matplotlib inline\n",
        "import seaborn as sns\n",
        "import numpy as np\n",
        "import pandas as pd\n",
        "import os "
      ],
      "execution_count": 0,
      "outputs": [
        {
          "output_type": "stream",
          "text": [
            "/usr/local/lib/python3.6/dist-packages/sklearn/externals/six.py:31: FutureWarning: The module is deprecated in version 0.21 and will be removed in version 0.23 since we've dropped support for Python 2.7. Please rely on the official version of six (https://pypi.org/project/six/).\n",
            "  \"(https://pypi.org/project/six/).\", FutureWarning)\n",
            "/usr/local/lib/python3.6/dist-packages/sklearn/utils/deprecation.py:144: FutureWarning: The sklearn.neighbors.base module is  deprecated in version 0.22 and will be removed in version 0.24. The corresponding classes / functions should instead be imported from sklearn.neighbors. Anything that cannot be imported from sklearn.neighbors is now part of the private API.\n",
            "  warnings.warn(message, FutureWarning)\n"
          ],
          "name": "stderr"
        }
      ]
    },
    {
      "cell_type": "code",
      "metadata": {
        "id": "oqa4WbJGPwEG",
        "colab_type": "code",
        "outputId": "bc4fadaf-5a1d-4e86-a7e0-1aac024003ac",
        "colab": {
          "base_uri": "https://localhost:8080/",
          "height": 122
        }
      },
      "source": [
        "# Mount GDrive\n",
        "from google.colab import drive\n",
        "drive.mount('/content/drive')"
      ],
      "execution_count": 0,
      "outputs": [
        {
          "output_type": "stream",
          "text": [
            "Go to this URL in a browser: https://accounts.google.com/o/oauth2/auth?client_id=947318989803-6bn6qk8qdgf4n4g3pfee6491hc0brc4i.apps.googleusercontent.com&redirect_uri=urn%3aietf%3awg%3aoauth%3a2.0%3aoob&response_type=code&scope=email%20https%3a%2f%2fwww.googleapis.com%2fauth%2fdocs.test%20https%3a%2f%2fwww.googleapis.com%2fauth%2fdrive%20https%3a%2f%2fwww.googleapis.com%2fauth%2fdrive.photos.readonly%20https%3a%2f%2fwww.googleapis.com%2fauth%2fpeopleapi.readonly\n",
            "\n",
            "Enter your authorization code:\n",
            "··········\n",
            "Mounted at /content/drive\n"
          ],
          "name": "stdout"
        }
      ]
    },
    {
      "cell_type": "code",
      "metadata": {
        "id": "i-rQ3us_P2_v",
        "colab_type": "code",
        "outputId": "faa98974-ce0b-44dd-9af5-2d5c1dfb1110",
        "colab": {
          "base_uri": "https://localhost:8080/",
          "height": 224
        }
      },
      "source": [
        "# Change to the directory with the data\n",
        "\n",
        "\n",
        "cardio = pd.read_csv('./drive/My Drive/framingham.csv')\n",
        "cardio.head()"
      ],
      "execution_count": 0,
      "outputs": [
        {
          "output_type": "execute_result",
          "data": {
            "text/html": [
              "<div>\n",
              "<style scoped>\n",
              "    .dataframe tbody tr th:only-of-type {\n",
              "        vertical-align: middle;\n",
              "    }\n",
              "\n",
              "    .dataframe tbody tr th {\n",
              "        vertical-align: top;\n",
              "    }\n",
              "\n",
              "    .dataframe thead th {\n",
              "        text-align: right;\n",
              "    }\n",
              "</style>\n",
              "<table border=\"1\" class=\"dataframe\">\n",
              "  <thead>\n",
              "    <tr style=\"text-align: right;\">\n",
              "      <th></th>\n",
              "      <th>male</th>\n",
              "      <th>age</th>\n",
              "      <th>education</th>\n",
              "      <th>currentSmoker</th>\n",
              "      <th>cigsPerDay</th>\n",
              "      <th>BPMeds</th>\n",
              "      <th>prevalentStroke</th>\n",
              "      <th>prevalentHyp</th>\n",
              "      <th>diabetes</th>\n",
              "      <th>totChol</th>\n",
              "      <th>sysBP</th>\n",
              "      <th>diaBP</th>\n",
              "      <th>BMI</th>\n",
              "      <th>heartRate</th>\n",
              "      <th>glucose</th>\n",
              "      <th>TenYearCHD</th>\n",
              "    </tr>\n",
              "  </thead>\n",
              "  <tbody>\n",
              "    <tr>\n",
              "      <th>0</th>\n",
              "      <td>1</td>\n",
              "      <td>39</td>\n",
              "      <td>4.0</td>\n",
              "      <td>0</td>\n",
              "      <td>0.0</td>\n",
              "      <td>0.0</td>\n",
              "      <td>0</td>\n",
              "      <td>0</td>\n",
              "      <td>0</td>\n",
              "      <td>195.0</td>\n",
              "      <td>106.0</td>\n",
              "      <td>70.0</td>\n",
              "      <td>26.97</td>\n",
              "      <td>80.0</td>\n",
              "      <td>77.0</td>\n",
              "      <td>0</td>\n",
              "    </tr>\n",
              "    <tr>\n",
              "      <th>1</th>\n",
              "      <td>0</td>\n",
              "      <td>46</td>\n",
              "      <td>2.0</td>\n",
              "      <td>0</td>\n",
              "      <td>0.0</td>\n",
              "      <td>0.0</td>\n",
              "      <td>0</td>\n",
              "      <td>0</td>\n",
              "      <td>0</td>\n",
              "      <td>250.0</td>\n",
              "      <td>121.0</td>\n",
              "      <td>81.0</td>\n",
              "      <td>28.73</td>\n",
              "      <td>95.0</td>\n",
              "      <td>76.0</td>\n",
              "      <td>0</td>\n",
              "    </tr>\n",
              "    <tr>\n",
              "      <th>2</th>\n",
              "      <td>1</td>\n",
              "      <td>48</td>\n",
              "      <td>1.0</td>\n",
              "      <td>1</td>\n",
              "      <td>20.0</td>\n",
              "      <td>0.0</td>\n",
              "      <td>0</td>\n",
              "      <td>0</td>\n",
              "      <td>0</td>\n",
              "      <td>245.0</td>\n",
              "      <td>127.5</td>\n",
              "      <td>80.0</td>\n",
              "      <td>25.34</td>\n",
              "      <td>75.0</td>\n",
              "      <td>70.0</td>\n",
              "      <td>0</td>\n",
              "    </tr>\n",
              "    <tr>\n",
              "      <th>3</th>\n",
              "      <td>0</td>\n",
              "      <td>61</td>\n",
              "      <td>3.0</td>\n",
              "      <td>1</td>\n",
              "      <td>30.0</td>\n",
              "      <td>0.0</td>\n",
              "      <td>0</td>\n",
              "      <td>1</td>\n",
              "      <td>0</td>\n",
              "      <td>225.0</td>\n",
              "      <td>150.0</td>\n",
              "      <td>95.0</td>\n",
              "      <td>28.58</td>\n",
              "      <td>65.0</td>\n",
              "      <td>103.0</td>\n",
              "      <td>1</td>\n",
              "    </tr>\n",
              "    <tr>\n",
              "      <th>4</th>\n",
              "      <td>0</td>\n",
              "      <td>46</td>\n",
              "      <td>3.0</td>\n",
              "      <td>1</td>\n",
              "      <td>23.0</td>\n",
              "      <td>0.0</td>\n",
              "      <td>0</td>\n",
              "      <td>0</td>\n",
              "      <td>0</td>\n",
              "      <td>285.0</td>\n",
              "      <td>130.0</td>\n",
              "      <td>84.0</td>\n",
              "      <td>23.10</td>\n",
              "      <td>85.0</td>\n",
              "      <td>85.0</td>\n",
              "      <td>0</td>\n",
              "    </tr>\n",
              "  </tbody>\n",
              "</table>\n",
              "</div>"
            ],
            "text/plain": [
              "   male  age  education  currentSmoker  ...    BMI  heartRate  glucose  TenYearCHD\n",
              "0     1   39        4.0              0  ...  26.97       80.0     77.0           0\n",
              "1     0   46        2.0              0  ...  28.73       95.0     76.0           0\n",
              "2     1   48        1.0              1  ...  25.34       75.0     70.0           0\n",
              "3     0   61        3.0              1  ...  28.58       65.0    103.0           1\n",
              "4     0   46        3.0              1  ...  23.10       85.0     85.0           0\n",
              "\n",
              "[5 rows x 16 columns]"
            ]
          },
          "metadata": {
            "tags": []
          },
          "execution_count": 3
        }
      ]
    },
    {
      "cell_type": "markdown",
      "metadata": {
        "id": "n9VUtlFqO7qP",
        "colab_type": "text"
      },
      "source": [
        "To find out how many entries there are in  dataset"
      ]
    },
    {
      "cell_type": "code",
      "metadata": {
        "id": "Bscesqn3O7qQ",
        "colab_type": "code",
        "outputId": "ae2be72c-d9ea-40c0-9984-2fcf2884c8a3",
        "colab": {
          "base_uri": "https://localhost:8080/",
          "height": 34
        }
      },
      "source": [
        "# the dimensions of the dataframe\n",
        "cardio.shape"
      ],
      "execution_count": 0,
      "outputs": [
        {
          "output_type": "execute_result",
          "data": {
            "text/plain": [
              "(4240, 16)"
            ]
          },
          "metadata": {
            "tags": []
          },
          "execution_count": 4
        }
      ]
    },
    {
      "cell_type": "markdown",
      "metadata": {
        "id": "dJvENGFzO7qV",
        "colab_type": "text"
      },
      "source": [
        "To find out if there are missing values"
      ]
    },
    {
      "cell_type": "code",
      "metadata": {
        "id": "f-00UMOjO7qW",
        "colab_type": "code",
        "outputId": "ce9feafb-4823-43b8-b45d-53d49cdc048a",
        "colab": {
          "base_uri": "https://localhost:8080/",
          "height": 306
        }
      },
      "source": [
        "cardio.isnull().sum()"
      ],
      "execution_count": 0,
      "outputs": [
        {
          "output_type": "execute_result",
          "data": {
            "text/plain": [
              "male                 0\n",
              "age                  0\n",
              "education          105\n",
              "currentSmoker        0\n",
              "cigsPerDay          29\n",
              "BPMeds              53\n",
              "prevalentStroke      0\n",
              "prevalentHyp         0\n",
              "diabetes             0\n",
              "totChol             50\n",
              "sysBP                0\n",
              "diaBP                0\n",
              "BMI                 19\n",
              "heartRate            1\n",
              "glucose            388\n",
              "TenYearCHD           0\n",
              "dtype: int64"
            ]
          },
          "metadata": {
            "tags": []
          },
          "execution_count": 5
        }
      ]
    },
    {
      "cell_type": "code",
      "metadata": {
        "id": "XRXLd0aOO7qa",
        "colab_type": "code",
        "outputId": "a4299d8a-6aa8-46b2-f6f1-775617bcec44",
        "colab": {
          "base_uri": "https://localhost:8080/",
          "height": 51
        }
      },
      "source": [
        "#counting total number of missing values\n",
        "def missing_values(cardio):\n",
        "    count=0\n",
        "    for i in cardio.isnull().sum(axis=1):\n",
        "        if i>0:\n",
        "            count=count+1\n",
        "    print('Total number of rows with missing values is ', count)\n",
        "    print('Number of missing values is',round((count/len(cardio.index))*100), 'percent of the entire dataset')\n",
        "missing_values(cardio)"
      ],
      "execution_count": 0,
      "outputs": [
        {
          "output_type": "stream",
          "text": [
            "Total number of rows with missing values is  582\n",
            "Number of missing values is 14 percent of the entire dataset\n"
          ],
          "name": "stdout"
        }
      ]
    },
    {
      "cell_type": "markdown",
      "metadata": {
        "id": "bDqiIWcJO7qv",
        "colab_type": "text"
      },
      "source": [
        "To find out if there is duplicated data "
      ]
    },
    {
      "cell_type": "code",
      "metadata": {
        "id": "YVImZiBSO7qw",
        "colab_type": "code",
        "outputId": "b73819c5-88a8-4ee2-c4b5-5f3b29db71c7",
        "colab": {
          "base_uri": "https://localhost:8080/",
          "height": 34
        }
      },
      "source": [
        "#checking for diplicate values\n",
        "\n",
        "print(\"There is {} duplicated values in data frame\".format(cardio.duplicated().sum()))"
      ],
      "execution_count": 0,
      "outputs": [
        {
          "output_type": "stream",
          "text": [
            "There is 0 duplicated values in data frame\n"
          ],
          "name": "stdout"
        }
      ]
    },
    {
      "cell_type": "code",
      "metadata": {
        "id": "4fcn34HTO7q3",
        "colab_type": "code",
        "outputId": "85975986-9f93-4eb1-a8a9-b31390ed979c",
        "colab": {
          "base_uri": "https://localhost:8080/",
          "height": 408
        }
      },
      "source": [
        "#checking what are type of variables \n",
        "cardio.info()"
      ],
      "execution_count": 0,
      "outputs": [
        {
          "output_type": "stream",
          "text": [
            "<class 'pandas.core.frame.DataFrame'>\n",
            "RangeIndex: 4240 entries, 0 to 4239\n",
            "Data columns (total 16 columns):\n",
            " #   Column           Non-Null Count  Dtype  \n",
            "---  ------           --------------  -----  \n",
            " 0   male             4240 non-null   int64  \n",
            " 1   age              4240 non-null   int64  \n",
            " 2   education        4135 non-null   float64\n",
            " 3   currentSmoker    4240 non-null   int64  \n",
            " 4   cigsPerDay       4211 non-null   float64\n",
            " 5   BPMeds           4187 non-null   float64\n",
            " 6   prevalentStroke  4240 non-null   int64  \n",
            " 7   prevalentHyp     4240 non-null   int64  \n",
            " 8   diabetes         4240 non-null   int64  \n",
            " 9   totChol          4190 non-null   float64\n",
            " 10  sysBP            4240 non-null   float64\n",
            " 11  diaBP            4240 non-null   float64\n",
            " 12  BMI              4221 non-null   float64\n",
            " 13  heartRate        4239 non-null   float64\n",
            " 14  glucose          3852 non-null   float64\n",
            " 15  TenYearCHD       4240 non-null   int64  \n",
            "dtypes: float64(9), int64(7)\n",
            "memory usage: 530.1 KB\n"
          ],
          "name": "stdout"
        }
      ]
    },
    {
      "cell_type": "markdown",
      "metadata": {
        "id": "av1j5YouO7q8",
        "colab_type": "text"
      },
      "source": [
        "Replacing missing data with mean "
      ]
    },
    {
      "cell_type": "code",
      "metadata": {
        "id": "jNfIhRsHO7q9",
        "colab_type": "code",
        "colab": {}
      },
      "source": [
        "# Replace NaNs with mean.\n",
        "cardio.cigsPerDay.replace(to_replace=np.nan, value=round(cardio.cigsPerDay.mean()), inplace=True)\n",
        "cardio.BPMeds.replace(to_replace=np.nan, value=round(cardio.BPMeds.mean()), inplace=True)\n",
        "cardio.totChol.replace(to_replace=np.nan, value=round(cardio.totChol.mean()), inplace=True)\n",
        "cardio.BMI.replace(to_replace=np.nan, value=round(cardio.BMI.mean()), inplace=True)\n",
        "cardio.glucose.replace(to_replace=np.nan, value=round(cardio.glucose.mean()), inplace=True)\n",
        "cardio.heartRate.replace(to_replace=np.nan, value=round(cardio.heartRate.mean()), inplace=True)"
      ],
      "execution_count": 0,
      "outputs": []
    },
    {
      "cell_type": "markdown",
      "metadata": {
        "id": "oHVuBG3sO7rE",
        "colab_type": "text"
      },
      "source": [
        "To check statistic of numeric colums"
      ]
    },
    {
      "cell_type": "code",
      "metadata": {
        "id": "Kdt8TsQkO7rF",
        "colab_type": "code",
        "outputId": "b246469a-04b6-4f3b-826d-5ffa7b083a3c",
        "colab": {
          "base_uri": "https://localhost:8080/",
          "height": 317
        }
      },
      "source": [
        "cardio.describe()"
      ],
      "execution_count": 0,
      "outputs": [
        {
          "output_type": "execute_result",
          "data": {
            "text/html": [
              "<div>\n",
              "<style scoped>\n",
              "    .dataframe tbody tr th:only-of-type {\n",
              "        vertical-align: middle;\n",
              "    }\n",
              "\n",
              "    .dataframe tbody tr th {\n",
              "        vertical-align: top;\n",
              "    }\n",
              "\n",
              "    .dataframe thead th {\n",
              "        text-align: right;\n",
              "    }\n",
              "</style>\n",
              "<table border=\"1\" class=\"dataframe\">\n",
              "  <thead>\n",
              "    <tr style=\"text-align: right;\">\n",
              "      <th></th>\n",
              "      <th>male</th>\n",
              "      <th>age</th>\n",
              "      <th>education</th>\n",
              "      <th>currentSmoker</th>\n",
              "      <th>cigsPerDay</th>\n",
              "      <th>BPMeds</th>\n",
              "      <th>prevalentStroke</th>\n",
              "      <th>prevalentHyp</th>\n",
              "      <th>diabetes</th>\n",
              "      <th>totChol</th>\n",
              "      <th>sysBP</th>\n",
              "      <th>diaBP</th>\n",
              "      <th>BMI</th>\n",
              "      <th>heartRate</th>\n",
              "      <th>glucose</th>\n",
              "      <th>TenYearCHD</th>\n",
              "    </tr>\n",
              "  </thead>\n",
              "  <tbody>\n",
              "    <tr>\n",
              "      <th>count</th>\n",
              "      <td>4240.000000</td>\n",
              "      <td>4240.000000</td>\n",
              "      <td>4135.000000</td>\n",
              "      <td>4240.000000</td>\n",
              "      <td>4240.000000</td>\n",
              "      <td>4240.000000</td>\n",
              "      <td>4240.000000</td>\n",
              "      <td>4240.000000</td>\n",
              "      <td>4240.000000</td>\n",
              "      <td>4240.000000</td>\n",
              "      <td>4240.000000</td>\n",
              "      <td>4240.000000</td>\n",
              "      <td>4240.000000</td>\n",
              "      <td>4240.000000</td>\n",
              "      <td>4240.000000</td>\n",
              "      <td>4240.000000</td>\n",
              "    </tr>\n",
              "    <tr>\n",
              "      <th>mean</th>\n",
              "      <td>0.429245</td>\n",
              "      <td>49.580189</td>\n",
              "      <td>1.979444</td>\n",
              "      <td>0.494104</td>\n",
              "      <td>9.005896</td>\n",
              "      <td>0.029245</td>\n",
              "      <td>0.005896</td>\n",
              "      <td>0.310613</td>\n",
              "      <td>0.025708</td>\n",
              "      <td>236.703066</td>\n",
              "      <td>132.354599</td>\n",
              "      <td>82.897759</td>\n",
              "      <td>25.801693</td>\n",
              "      <td>75.879009</td>\n",
              "      <td>81.966981</td>\n",
              "      <td>0.151887</td>\n",
              "    </tr>\n",
              "    <tr>\n",
              "      <th>std</th>\n",
              "      <td>0.495027</td>\n",
              "      <td>8.572942</td>\n",
              "      <td>1.019791</td>\n",
              "      <td>0.500024</td>\n",
              "      <td>11.881610</td>\n",
              "      <td>0.168513</td>\n",
              "      <td>0.076569</td>\n",
              "      <td>0.462799</td>\n",
              "      <td>0.158280</td>\n",
              "      <td>44.327533</td>\n",
              "      <td>22.033300</td>\n",
              "      <td>11.910394</td>\n",
              "      <td>4.070708</td>\n",
              "      <td>12.023930</td>\n",
              "      <td>22.831751</td>\n",
              "      <td>0.358953</td>\n",
              "    </tr>\n",
              "    <tr>\n",
              "      <th>min</th>\n",
              "      <td>0.000000</td>\n",
              "      <td>32.000000</td>\n",
              "      <td>1.000000</td>\n",
              "      <td>0.000000</td>\n",
              "      <td>0.000000</td>\n",
              "      <td>0.000000</td>\n",
              "      <td>0.000000</td>\n",
              "      <td>0.000000</td>\n",
              "      <td>0.000000</td>\n",
              "      <td>107.000000</td>\n",
              "      <td>83.500000</td>\n",
              "      <td>48.000000</td>\n",
              "      <td>15.540000</td>\n",
              "      <td>44.000000</td>\n",
              "      <td>40.000000</td>\n",
              "      <td>0.000000</td>\n",
              "    </tr>\n",
              "    <tr>\n",
              "      <th>25%</th>\n",
              "      <td>0.000000</td>\n",
              "      <td>42.000000</td>\n",
              "      <td>1.000000</td>\n",
              "      <td>0.000000</td>\n",
              "      <td>0.000000</td>\n",
              "      <td>0.000000</td>\n",
              "      <td>0.000000</td>\n",
              "      <td>0.000000</td>\n",
              "      <td>0.000000</td>\n",
              "      <td>206.000000</td>\n",
              "      <td>117.000000</td>\n",
              "      <td>75.000000</td>\n",
              "      <td>23.077500</td>\n",
              "      <td>68.000000</td>\n",
              "      <td>72.000000</td>\n",
              "      <td>0.000000</td>\n",
              "    </tr>\n",
              "    <tr>\n",
              "      <th>50%</th>\n",
              "      <td>0.000000</td>\n",
              "      <td>49.000000</td>\n",
              "      <td>2.000000</td>\n",
              "      <td>0.000000</td>\n",
              "      <td>0.000000</td>\n",
              "      <td>0.000000</td>\n",
              "      <td>0.000000</td>\n",
              "      <td>0.000000</td>\n",
              "      <td>0.000000</td>\n",
              "      <td>234.000000</td>\n",
              "      <td>128.000000</td>\n",
              "      <td>82.000000</td>\n",
              "      <td>25.410000</td>\n",
              "      <td>75.000000</td>\n",
              "      <td>80.000000</td>\n",
              "      <td>0.000000</td>\n",
              "    </tr>\n",
              "    <tr>\n",
              "      <th>75%</th>\n",
              "      <td>1.000000</td>\n",
              "      <td>56.000000</td>\n",
              "      <td>3.000000</td>\n",
              "      <td>1.000000</td>\n",
              "      <td>20.000000</td>\n",
              "      <td>0.000000</td>\n",
              "      <td>0.000000</td>\n",
              "      <td>1.000000</td>\n",
              "      <td>0.000000</td>\n",
              "      <td>262.000000</td>\n",
              "      <td>144.000000</td>\n",
              "      <td>90.000000</td>\n",
              "      <td>28.032500</td>\n",
              "      <td>83.000000</td>\n",
              "      <td>85.000000</td>\n",
              "      <td>0.000000</td>\n",
              "    </tr>\n",
              "    <tr>\n",
              "      <th>max</th>\n",
              "      <td>1.000000</td>\n",
              "      <td>70.000000</td>\n",
              "      <td>4.000000</td>\n",
              "      <td>1.000000</td>\n",
              "      <td>70.000000</td>\n",
              "      <td>1.000000</td>\n",
              "      <td>1.000000</td>\n",
              "      <td>1.000000</td>\n",
              "      <td>1.000000</td>\n",
              "      <td>696.000000</td>\n",
              "      <td>295.000000</td>\n",
              "      <td>142.500000</td>\n",
              "      <td>56.800000</td>\n",
              "      <td>143.000000</td>\n",
              "      <td>394.000000</td>\n",
              "      <td>1.000000</td>\n",
              "    </tr>\n",
              "  </tbody>\n",
              "</table>\n",
              "</div>"
            ],
            "text/plain": [
              "              male          age  ...      glucose   TenYearCHD\n",
              "count  4240.000000  4240.000000  ...  4240.000000  4240.000000\n",
              "mean      0.429245    49.580189  ...    81.966981     0.151887\n",
              "std       0.495027     8.572942  ...    22.831751     0.358953\n",
              "min       0.000000    32.000000  ...    40.000000     0.000000\n",
              "25%       0.000000    42.000000  ...    72.000000     0.000000\n",
              "50%       0.000000    49.000000  ...    80.000000     0.000000\n",
              "75%       1.000000    56.000000  ...    85.000000     0.000000\n",
              "max       1.000000    70.000000  ...   394.000000     1.000000\n",
              "\n",
              "[8 rows x 16 columns]"
            ]
          },
          "metadata": {
            "tags": []
          },
          "execution_count": 10
        }
      ]
    },
    {
      "cell_type": "markdown",
      "metadata": {
        "id": "M7XZerFJO7rO",
        "colab_type": "text"
      },
      "source": [
        "Check distribution of columns by hystogram "
      ]
    },
    {
      "cell_type": "code",
      "metadata": {
        "id": "-X-LUnVfO7rP",
        "colab_type": "code",
        "outputId": "a95fab23-7a9b-4a7e-a5f3-845ed6713712",
        "colab": {
          "base_uri": "https://localhost:8080/",
          "height": 1000
        }
      },
      "source": [
        "#histogram of all columns to see distribution \n",
        "fig = plt.figure(figsize = (15,20))\n",
        "ax = fig.gca()\n",
        "cardio.hist(ax=ax)\n",
        "plt.savefig('Histogram')"
      ],
      "execution_count": 0,
      "outputs": [
        {
          "output_type": "display_data",
          "data": {
            "image/png": "[encoded data removed]",
            "text/plain": [
              "<Figure size 1080x1440 with 16 Axes>"
            ]
          },
          "metadata": {
            "tags": [],
            "needs_background": "light"
          }
        }
      ]
    },
    {
      "cell_type": "markdown",
      "metadata": {
        "id": "Q0KAL7zGO7rS",
        "colab_type": "text"
      },
      "source": [
        "to check coorelation with target class"
      ]
    },
    {
      "cell_type": "code",
      "metadata": {
        "id": "ny1jJhQDO7rT",
        "colab_type": "code",
        "outputId": "b54b4197-b440-43f5-bf0a-27bd28047a01",
        "colab": {
          "base_uri": "https://localhost:8080/",
          "height": 289
        }
      },
      "source": [
        "# correlations with target class\n",
        "correlations = cardio.corr()['TenYearCHD'].drop('TenYearCHD').sort_values(ascending=False)\n",
        "print(correlations)"
      ],
      "execution_count": 0,
      "outputs": [
        {
          "output_type": "stream",
          "text": [
            "age                0.225408\n",
            "sysBP              0.216374\n",
            "prevalentHyp       0.177458\n",
            "diaBP              0.145112\n",
            "glucose            0.120442\n",
            "diabetes           0.097344\n",
            "male               0.088374\n",
            "BPMeds             0.086448\n",
            "totChol            0.081813\n",
            "BMI                0.075016\n",
            "prevalentStroke    0.061823\n",
            "cigsPerDay         0.057647\n",
            "heartRate          0.022897\n",
            "currentSmoker      0.019448\n",
            "education         -0.054248\n",
            "Name: TenYearCHD, dtype: float64\n"
          ],
          "name": "stdout"
        }
      ]
    },
    {
      "cell_type": "markdown",
      "metadata": {
        "id": "mYeJiS5nO7ra",
        "colab_type": "text"
      },
      "source": [
        "correlation heatmap "
      ]
    },
    {
      "cell_type": "code",
      "metadata": {
        "id": "s3q6WFD3O7rb",
        "colab_type": "code",
        "outputId": "d5921485-1c36-4e93-c049-bae55989ae48",
        "colab": {
          "base_uri": "https://localhost:8080/",
          "height": 1000
        }
      },
      "source": [
        "#correlations of each features in dataset presented as heatmap\n",
        "\n",
        "corrmat = cardio.corr()\n",
        "top_corr_features = corrmat.index\n",
        "plt.figure(figsize=(20,20))\n",
        "#plot heat map\n",
        "g=sns.heatmap(cardio[top_corr_features].corr(),annot=True,cmap=\"Pastel1\")\n",
        "plt.savefig('Heatmap Heart Disease.png')"
      ],
      "execution_count": 0,
      "outputs": [
        {
          "output_type": "display_data",
          "data": {
            "image/png": "[encoded data removed]",
            "text/plain": [
              "<Figure size 1440x1440 with 2 Axes>"
            ]
          },
          "metadata": {
            "tags": [],
            "needs_background": "light"
          }
        }
      ]
    },
    {
      "cell_type": "markdown",
      "metadata": {
        "id": "n9_VlfkhbReW",
        "colab_type": "text"
      },
      "source": [
        "remove column education since is irelevant"
      ]
    },
    {
      "cell_type": "code",
      "metadata": {
        "id": "ybI2PhqLbas1",
        "colab_type": "code",
        "colab": {}
      },
      "source": [
        "#to drop column that has low correlation\n",
        "cardio.drop(['education'], 1, inplace=True)"
      ],
      "execution_count": 0,
      "outputs": []
    },
    {
      "cell_type": "markdown",
      "metadata": {
        "id": "49fEgUT-O7rf",
        "colab_type": "text"
      },
      "source": [
        "Check for outliers with boxplot"
      ]
    },
    {
      "cell_type": "code",
      "metadata": {
        "colab_type": "code",
        "id": "eyjCMDfZf0HP",
        "outputId": "c66fc667-b696-43b3-ca0e-678b36dfcf17",
        "colab": {
          "base_uri": "https://localhost:8080/",
          "height": 1000
        }
      },
      "source": [
        "plt.figure(figsize=(24,20))\n",
        "\n",
        "\n",
        "plt.subplot(4, 2, 1)\n",
        "fig = cardio.boxplot(column='cigsPerDay')\n",
        "fig.set_title('')\n",
        "fig.set_ylabel('cigsPerDay')\n",
        "\n",
        "\n",
        "plt.subplot(4, 2, 2)\n",
        "fig = cardio.boxplot(column='totChol')\n",
        "fig.set_title('')\n",
        "fig.set_ylabel('totChol')\n",
        "\n",
        "\n",
        "plt.subplot(4, 2, 3)\n",
        "fig = cardio.boxplot(column='sysBP')\n",
        "fig.set_title('')\n",
        "fig.set_ylabel('sysBP')\n",
        "\n",
        "\n",
        "plt.subplot(4, 2, 4)\n",
        "fig = cardio.boxplot(column='diaBP')\n",
        "fig.set_title('')\n",
        "fig.set_ylabel('diaBP')\n",
        "\n",
        "\n",
        "plt.subplot(4, 2, 5)\n",
        "fig = cardio.boxplot(column='age')\n",
        "fig.set_title('')\n",
        "fig.set_ylabel('age')\n",
        "\n",
        "\n",
        "plt.subplot(4, 2, 6)\n",
        "fig = cardio.boxplot(column='BMI')\n",
        "fig.set_title('')\n",
        "fig.set_ylabel('BMI')\n",
        "\n",
        "plt.subplot(4, 2, 7)\n",
        "fig = cardio.boxplot(column='heartRate')\n",
        "fig.set_title('')\n",
        "fig.set_ylabel('heartRate')\n",
        "\n",
        "plt.subplot(4, 2, 8)\n",
        "fig = cardio.boxplot(column='glucose')\n",
        "fig.set_title('')\n",
        "fig.set_ylabel('glucose')"
      ],
      "execution_count": 0,
      "outputs": [
        {
          "output_type": "execute_result",
          "data": {
            "text/plain": [
              "Text(0, 0.5, 'glucose')"
            ]
          },
          "metadata": {
            "tags": []
          },
          "execution_count": 15
        },
        {
          "output_type": "display_data",
          "data": {
            "image/png": "[encoded data removed]",
            "text/plain": [
              "<Figure size 1728x1440 with 8 Axes>"
            ]
          },
          "metadata": {
            "tags": [],
            "needs_background": "light"
          }
        }
      ]
    },
    {
      "cell_type": "markdown",
      "metadata": {
        "id": "oVtDGTUhO7rj",
        "colab_type": "text"
      },
      "source": [
        "Filtering outliers based on boxplot "
      ]
    },
    {
      "cell_type": "code",
      "metadata": {
        "id": "BXCsTWz4O7rk",
        "colab_type": "code",
        "outputId": "b897950b-dd3c-44cb-84e5-a8da53642a5e",
        "colab": {
          "base_uri": "https://localhost:8080/",
          "height": 102
        }
      },
      "source": [
        "BP_outlier = ((cardio[\"sysBP\"]>250) | (cardio[\"sysBP\"]<90) |(cardio[\"diaBP\"]>160) | (cardio[\"diaBP\"]<40))\n",
        "bmi_outlier = ((cardio[\"BMI\"]>40) | (cardio[\"BMI\"]<10))\n",
        "glu_outlier = ((cardio[\"glucose\"]<50) | (cardio[\"glucose\"]>110))\n",
        "chol_outlier = ((cardio[\"totChol\"]<110) | (cardio[\"totChol\"]>350))\n",
        "hr_outlier = ((cardio[\"heartRate\"]<40) | (cardio[\"heartRate\"]>110))\n",
        "print(\"There is {}      sysBP and diaBP outliers\".format(cardio[BP_outlier][\"TenYearCHD\"].count()))\n",
        "print(\"There is {}     BMI outiers\".format(cardio[bmi_outlier][\"TenYearCHD\"].count()))\n",
        "print(\"There is {}    glucose outliers\".format(cardio[glu_outlier][\"TenYearCHD\"].count()))\n",
        "print(\"There is {}     totChol outliers\".format(cardio[chol_outlier][\"TenYearCHD\"].count()))\n",
        "print(\"There is {}     hearth rate outliers\".format(cardio[hr_outlier][\"TenYearCHD\"].count()))"
      ],
      "execution_count": 0,
      "outputs": [
        {
          "output_type": "stream",
          "text": [
            "There is 5      sysBP and diaBP outliers\n",
            "There is 26     BMI outiers\n",
            "There is 194    glucose outliers\n",
            "There is 51     totChol outliers\n",
            "There is 23     hearth rate outliers\n"
          ],
          "name": "stdout"
        }
      ]
    },
    {
      "cell_type": "markdown",
      "metadata": {
        "id": "x1jRJeFoO7rq",
        "colab_type": "text"
      },
      "source": [
        "removing outliers "
      ]
    },
    {
      "cell_type": "code",
      "metadata": {
        "id": "XiZFI0gmO7rr",
        "colab_type": "code",
        "outputId": "d7092409-47b3-414e-966e-0111f2396283",
        "colab": {
          "base_uri": "https://localhost:8080/",
          "height": 34
        }
      },
      "source": [
        "#remove ouliers and check for dataset shape \n",
        "cardio = cardio[~BP_outlier]\n",
        "cardio = cardio[~bmi_outlier]\n",
        "cardio = cardio[~glu_outlier]\n",
        "cardio = cardio[~hr_outlier]\n",
        "cardio = cardio[~chol_outlier]\n",
        "cardio.shape"
      ],
      "execution_count": 0,
      "outputs": [
        {
          "output_type": "execute_result",
          "data": {
            "text/plain": [
              "(3954, 15)"
            ]
          },
          "metadata": {
            "tags": []
          },
          "execution_count": 17
        }
      ]
    },
    {
      "cell_type": "markdown",
      "metadata": {
        "id": "mJS3-C3DO7ru",
        "colab_type": "text"
      },
      "source": [
        "DIVIDING DATA INTO TRAIN -VALIDATION -TEST\n",
        "The validation set is used during the model fitting to evaluate the metrics. The test set is completely unused during the training phase and is only used at the end to evaluate how well the model generalizes to new data. This is especially important with imbalanced datasets where overfitting is a significant concern from the lack of training data"
      ]
    },
    {
      "cell_type": "code",
      "metadata": {
        "id": "SQJMRevCO7rv",
        "colab_type": "code",
        "colab": {}
      },
      "source": [
        "train_ratio = 0.80\n",
        "validation_ratio = 0.10\n",
        "test_ratio = 0.10"
      ],
      "execution_count": 0,
      "outputs": []
    },
    {
      "cell_type": "code",
      "metadata": {
        "id": "gUvjBCrIO7ry",
        "colab_type": "code",
        "colab": {}
      },
      "source": [
        "y = cardio.TenYearCHD\n",
        "X = cardio.drop('TenYearCHD', axis=1)"
      ],
      "execution_count": 0,
      "outputs": []
    },
    {
      "cell_type": "code",
      "metadata": {
        "id": "1Ut2M4r3O7r4",
        "colab_type": "code",
        "colab": {}
      },
      "source": [
        "# train is now 90% of the entire data set\n",
        "X_train, X_test, y_train, y_test = train_test_split(X, y, \n",
        "                                                    test_size = test_ratio)"
      ],
      "execution_count": 0,
      "outputs": []
    },
    {
      "cell_type": "code",
      "metadata": {
        "id": "wFVfaclBO7r6",
        "colab_type": "code",
        "outputId": "8a22a560-6127-448e-eac8-f9ad6e8b1a7f",
        "colab": {
          "base_uri": "https://localhost:8080/",
          "height": 102
        }
      },
      "source": [
        "# test is now 10% of the initial data set\n",
        "# validation is now 10% of the train data set\n",
        "X_train, X_val, y_train, y_val = train_test_split(X_train, y_train, \n",
        "                                                  test_size = validation_ratio)\n",
        "print('Train set :',len(X_train))\n",
        "print('Test set :',len(X_test))\n",
        "print('Validation set :',len(X_val))\n",
        "print(len(X_train)+len(X_test)+len(X_val))\n",
        "print(len(y))"
      ],
      "execution_count": 0,
      "outputs": [
        {
          "output_type": "stream",
          "text": [
            "Train set : 3202\n",
            "Test set : 396\n",
            "Validation set : 356\n",
            "3954\n",
            "3954\n"
          ],
          "name": "stdout"
        }
      ]
    },
    {
      "cell_type": "markdown",
      "metadata": {
        "id": "x75HLhATO7r-",
        "colab_type": "text"
      },
      "source": [
        "Standardize dataset"
      ]
    },
    {
      "cell_type": "code",
      "metadata": {
        "id": "DODlE8bSO7r-",
        "colab_type": "code",
        "outputId": "8dceff41-d54d-4339-bc8c-97a6bf24a33c",
        "colab": {
          "base_uri": "https://localhost:8080/",
          "height": 238
        }
      },
      "source": [
        "from sklearn.preprocessing import StandardScaler\n",
        "scaler = StandardScaler()\n",
        "cols = X_train.columns\n",
        "X_train = scaler.fit_transform(X_train)\n",
        "X_test = scaler.transform(X_test)\n",
        "X_val = scaler.transform(X_val)\n",
        "print(X_train)"
      ],
      "execution_count": 0,
      "outputs": [
        {
          "output_type": "stream",
          "text": [
            "[[-0.88534965  1.02279026  0.99937559 ... -1.20848389  1.4439899\n",
            "   0.30155651]\n",
            " [-0.88534965  1.02279026 -1.0006248  ... -0.60747087 -1.31362334\n",
            "  -0.56048649]\n",
            " [ 1.12949725  0.43370251  0.99937559 ... -0.53068947  1.78869155\n",
            "  -0.17735627]\n",
            " ...\n",
            " [ 1.12949725 -0.03756768  0.99937559 ...  0.32184883 -0.71039545\n",
            "  -0.08157371]\n",
            " [ 1.12949725 -0.74447298 -1.0006248  ...  0.83813754 -2.00302665\n",
            "  -0.84783415]\n",
            " [ 1.12949725 -1.09792562  0.99937559 ...  0.22653399 -0.45186921\n",
            "   1.06781695]]\n"
          ],
          "name": "stdout"
        }
      ]
    },
    {
      "cell_type": "markdown",
      "metadata": {
        "id": "HSWDE1pEO7sP",
        "colab_type": "text"
      },
      "source": [
        "checking if target column is balanced"
      ]
    },
    {
      "cell_type": "code",
      "metadata": {
        "id": "JasNPVKEO7sQ",
        "colab_type": "code",
        "outputId": "03e30001-1a44-4102-8593-c9fe16a11bf1",
        "colab": {
          "base_uri": "https://localhost:8080/",
          "height": 361
        }
      },
      "source": [
        "# checking if target column is balanced\n",
        "\n",
        "sns.countplot(x = 'TenYearCHD', data = cardio, palette = 'Blues')\n",
        "target_count=cardio['TenYearCHD'].value_counts()\n",
        "print('Class 0:', target_count[0])\n",
        "print('Class 1:', target_count[1])\n",
        "print('Proportion:', round(target_count[0] / target_count[1], 2), ': 1')\n",
        "plt.title('Count Outcome Heart Disease Before Resampling\\n')\n",
        "plt.xlabel('Heart Disease No/Yes',fontsize=11)\n",
        "plt.ylabel('Patient Count',fontsize=11)\n",
        "plt.savefig('Balance Heart Disease.png')\n",
        "plt.show()"
      ],
      "execution_count": 0,
      "outputs": [
        {
          "output_type": "stream",
          "text": [
            "Class 0: 3391\n",
            "Class 1: 563\n",
            "Proportion: 6.02 : 1\n"
          ],
          "name": "stdout"
        },
        {
          "output_type": "display_data",
          "data": {
            "image/png": "[encoded data removed]",
            "text/plain": [
              "<Figure size 432x288 with 1 Axes>"
            ]
          },
          "metadata": {
            "tags": [],
            "needs_background": "light"
          }
        }
      ]
    },
    {
      "cell_type": "markdown",
      "metadata": {
        "id": "7U-BnC8XO7se",
        "colab_type": "text"
      },
      "source": [
        "oversampling minority data with SMOTE only for train set"
      ]
    },
    {
      "cell_type": "code",
      "metadata": {
        "id": "hTiIH1M_O7sf",
        "colab_type": "code",
        "outputId": "7a425580-8155-4586-c124-27ed30938ee1",
        "colab": {
          "base_uri": "https://localhost:8080/",
          "height": 68
        }
      },
      "source": [
        "smote = SMOTE()\n",
        "# Resample the train dataset only.\n",
        "X_train, y_train = smote.fit_resample(X_train, y_train)\n",
        "print(\"New number of rows in train set: \", X_train.shape[0])\n",
        "print ('Shape of oversampled data: {}'.format(X_train.shape))\n",
        "print ('Shape of Y: {}'.format(y_train.shape))"
      ],
      "execution_count": 0,
      "outputs": [
        {
          "output_type": "stream",
          "text": [
            "New number of rows in train set:  5496\n",
            "Shape of oversampled data: (5496, 14)\n",
            "Shape of Y: (5496,)\n"
          ],
          "name": "stdout"
        }
      ]
    },
    {
      "cell_type": "code",
      "metadata": {
        "id": "O9-45g3pO7si",
        "colab_type": "code",
        "outputId": "fd0300bc-f8f9-46a4-c097-895df9c96e8a",
        "colab": {
          "base_uri": "https://localhost:8080/",
          "height": 361
        }
      },
      "source": [
        "# plot new count\n",
        "sns.countplot(y_train, palette=\"Blues\")\n",
        "num_zeros = (y_train == 0).sum()\n",
        "num_ones = (y_train == 1).sum()\n",
        "#new_count=y_train.value_counts()\n",
        "print('Class 0:', num_zeros)\n",
        "print('Class 1:', num_ones)\n",
        "print('Proportion:', round(num_zeros / num_ones, 2), ': 1')\n",
        "plt.box(False)\n",
        "plt.xlabel('Heart Disease No/Yes',fontsize=11)\n",
        "plt.ylabel('Patient Count',fontsize=11)\n",
        "plt.title('Count Outcome Heart Disease after Resampling\\n')\n",
        "plt.savefig('Balance Heart Disease.png')\n",
        "plt.show()"
      ],
      "execution_count": 0,
      "outputs": [
        {
          "output_type": "stream",
          "text": [
            "Class 0: 2748\n",
            "Class 1: 2748\n",
            "Proportion: 1.0 : 1\n"
          ],
          "name": "stdout"
        },
        {
          "output_type": "display_data",
          "data": {
            "image/png": "[encoded data removed]",
            "text/plain": [
              "<Figure size 432x288 with 1 Axes>"
            ]
          },
          "metadata": {
            "tags": [],
            "needs_background": "light"
          }
        }
      ]
    },
    {
      "cell_type": "markdown",
      "metadata": {
        "id": "Y_r8DwgJO7sl",
        "colab_type": "text"
      },
      "source": [
        "#Random Forest Classifier"
      ]
    },
    {
      "cell_type": "code",
      "metadata": {
        "id": "7u_Dm15-O7sl",
        "colab_type": "code",
        "colab": {}
      },
      "source": [
        "master_eval_dict = {}\n",
        "eval_metrics = [\"accuracy\", \"precision\", \"recall\", \"f1\"]"
      ],
      "execution_count": 0,
      "outputs": []
    },
    {
      "cell_type": "markdown",
      "metadata": {
        "id": "S0o6V-Loaecw",
        "colab_type": "text"
      },
      "source": [
        "Report which parameter gives best result under the grid search procedure for Random Forest Classifier\n"
      ]
    },
    {
      "cell_type": "code",
      "metadata": {
        "id": "5R-r5TYcO7so",
        "colab_type": "code",
        "outputId": "9c16f907-c123-48a7-bcf6-4d2911bd6398",
        "colab": {
          "base_uri": "https://localhost:8080/",
          "height": 51
        }
      },
      "source": [
        "#find optimym hyperparameters for RF \n",
        "rf = sklearn.ensemble.RandomForestClassifier()  \n",
        "param_grid = { \"n_estimators\" : [10, 100,1000],  \n",
        "           \"max_depth\" : [5, 100,500],  \n",
        "           \"min_samples_leaf\" : [1, 20,40],  \n",
        "           \"max_features\" : ['auto', 'sqrt', 'log2']}\n",
        "rf_gscv = GridSearchCV(estimator=rf, param_grid=param_grid ,cv=5) #number of Kfolds=5\n",
        "rf_gscv.fit(X_train, y_train)#fit training data\n",
        "print(\"Tuned hyperparameters:\",rf_gscv.best_params_) \n",
        "print('Score for the top performing value ',rf_gscv.best_score_*100)"
      ],
      "execution_count": 0,
      "outputs": [
        {
          "output_type": "stream",
          "text": [
            "Tuned hyperparameters: {'max_depth': 100, 'max_features': 'auto', 'min_samples_leaf': 1, 'n_estimators': 1000}\n",
            "Score for the top performing value  91.33969724542972\n"
          ],
          "name": "stdout"
        }
      ]
    },
    {
      "cell_type": "markdown",
      "metadata": {
        "id": "pQ9f4CtFO7sr",
        "colab_type": "text"
      },
      "source": [
        "Fitting the classifier with the parameters that yielded the best score in the grid search"
      ]
    },
    {
      "cell_type": "code",
      "metadata": {
        "id": "b1mEtgrDO7ss",
        "colab_type": "code",
        "outputId": "fcf9c1d3-95a3-43d0-987f-4a52f8aad4b7",
        "colab": {
          "base_uri": "https://localhost:8080/",
          "height": 102
        }
      },
      "source": [
        "rf = RandomForestClassifier(**rf_gscv.best_params_)\n",
        "#  fit on train data with tuned hyperparameters\n",
        "rf.fit(X_train, y_train)\n",
        "rf_y_predict = rf.predict(X_val) #prediction on validation set\n",
        "# Print accuracy on training set \n",
        "print(\"Accuracy on training set :\"+str(rf.score(X_train,y_train)*100)) \n",
        "#to get score on validation set \n",
        "print(\"Accuracy on val set:\",metrics.accuracy_score(y_val,rf_y_predict )*100)\n",
        "print('Precission on val set:',metrics.precision_score(y_val,rf_y_predict)*100)\n",
        "print('Recall on val set:',metrics.recall_score(y_val,rf_y_predict)*100)\n",
        "print('F-score on val set:',metrics.f1_score(y_val,rf_y_predict)*100)"
      ],
      "execution_count": 0,
      "outputs": [
        {
          "output_type": "stream",
          "text": [
            "Accuracy on training set :100.0\n",
            "Accuracy on val set: 79.21348314606742\n",
            "Precission on val set: 33.33333333333333\n",
            "Recall on val set: 21.311475409836063\n",
            "F-score on val set: 26.0\n"
          ],
          "name": "stdout"
        }
      ]
    },
    {
      "cell_type": "markdown",
      "metadata": {
        "id": "RcbxX80TO7s3",
        "colab_type": "text"
      },
      "source": [
        "###Classification report on Test set "
      ]
    },
    {
      "cell_type": "code",
      "metadata": {
        "id": "N4tYvaiXO7s4",
        "colab_type": "code",
        "outputId": "7d1c3bdd-83fa-4dbb-b6c1-263a979983a9",
        "colab": {
          "base_uri": "https://localhost:8080/",
          "height": 187
        }
      },
      "source": [
        "#classification report to show differences between class 0 and class 1 \n",
        "rf_y_predict = rf.predict(X_test)\n",
        "print('Classification Report:')\n",
        "print(metrics.classification_report(y_test, rf_y_predict))"
      ],
      "execution_count": 0,
      "outputs": [
        {
          "output_type": "stream",
          "text": [
            "Classification Report:\n",
            "              precision    recall  f1-score   support\n",
            "\n",
            "           0       0.90      0.91      0.90       348\n",
            "           1       0.27      0.25      0.26        48\n",
            "\n",
            "    accuracy                           0.83       396\n",
            "   macro avg       0.58      0.58      0.58       396\n",
            "weighted avg       0.82      0.83      0.82       396\n",
            "\n"
          ],
          "name": "stdout"
        }
      ]
    },
    {
      "cell_type": "code",
      "metadata": {
        "id": "H5NT-t4YO7s7",
        "colab_type": "code",
        "colab": {}
      },
      "source": [
        "#to zip all results together \n",
        "eval_scores = list()\n",
        "\n",
        "eval_scores.append(metrics.accuracy_score(y_test,rf_y_predict )*100)\n",
        "eval_scores.append(metrics.precision_score(y_test,rf_y_predict)*100)\n",
        "eval_scores.append(metrics.recall_score(y_test,rf_y_predict)*100)\n",
        "eval_scores.append(metrics.f1_score(y_test,rf_y_predict)*100)\n",
        "\n",
        "rf_metrics_dict = dict(zip(eval_metrics, eval_scores))\n",
        "rf_metrics_dict\n",
        "\n",
        "master_eval_dict.update({\"RF\": rf_metrics_dict})"
      ],
      "execution_count": 0,
      "outputs": []
    },
    {
      "cell_type": "markdown",
      "metadata": {
        "id": "vsOme3ycO7s-",
        "colab_type": "text"
      },
      "source": [
        "Confusion Matrix"
      ]
    },
    {
      "cell_type": "code",
      "metadata": {
        "id": "s2D2Tv-VO7s_",
        "colab_type": "code",
        "outputId": "adb1e385-c669-483d-8d26-78faae40f4d7",
        "colab": {
          "base_uri": "https://localhost:8080/",
          "height": 345
        }
      },
      "source": [
        "# plotting confusion matrix Random Forest \n",
        "cnf_matrix_log = metrics.confusion_matrix(y_test, rf_y_predict)\n",
        "sns.heatmap(pd.DataFrame(cnf_matrix_log), annot=True,cmap=\"Reds\" , fmt='g')\n",
        "ax.xaxis.set_label_position(\"top\")\n",
        "plt.tight_layout()\n",
        "plt.title('Confusion matrix Random Forest \\n', y=1.1)"
      ],
      "execution_count": 0,
      "outputs": [
        {
          "output_type": "execute_result",
          "data": {
            "text/plain": [
              "Text(0.5, 1.1, 'Confusion matrix Random Forest \\n')"
            ]
          },
          "metadata": {
            "tags": []
          },
          "execution_count": 31
        },
        {
          "output_type": "display_data",
          "data": {
            "image/png": "[encoded data removed]",
            "text/plain": [
              "<Figure size 432x288 with 2 Axes>"
            ]
          },
          "metadata": {
            "tags": [],
            "needs_background": "light"
          }
        }
      ]
    },
    {
      "cell_type": "markdown",
      "metadata": {
        "id": "OW1lGxUXO7tC",
        "colab_type": "text"
      },
      "source": [
        "Normalized confusion matrix"
      ]
    },
    {
      "cell_type": "code",
      "metadata": {
        "id": "VP-jSYzeO7tD",
        "colab_type": "code",
        "outputId": "55a75fc3-fdf5-4498-dd2b-d51b67ab8c3b",
        "colab": {
          "base_uri": "https://localhost:8080/",
          "height": 68
        }
      },
      "source": [
        "#normalized confusion matrix\n",
        "rf_cnf_mx = metrics.confusion_matrix(y_test, rf_y_predict)\n",
        "print(\"normalized confusion matrix\")\n",
        "rf_cnf_mx_joint = rf_cnf_mx.astype('float')/ rf_cnf_mx.sum()\n",
        "print(rf_cnf_mx_joint)"
      ],
      "execution_count": 0,
      "outputs": [
        {
          "output_type": "stream",
          "text": [
            "normalized confusion matrix\n",
            "[[0.79545455 0.08333333]\n",
            " [0.09090909 0.03030303]]\n"
          ],
          "name": "stdout"
        }
      ]
    },
    {
      "cell_type": "markdown",
      "metadata": {
        "id": "QH7r9_9mO7tG",
        "colab_type": "text"
      },
      "source": [
        "ROC curve for Random Forest"
      ]
    },
    {
      "cell_type": "code",
      "metadata": {
        "id": "1pm7h2QZO7tG",
        "colab_type": "code",
        "outputId": "9f01f487-bc0a-499c-f193-10ca59e3f3ee",
        "colab": {
          "base_uri": "https://localhost:8080/",
          "height": 295
        }
      },
      "source": [
        "#ROC curve for RF\n",
        "rf_roc = metrics.plot_roc_curve(rf, X_test, y_test, name = \"RF\")\n",
        "plt.title('Random Forest ROC curve')\n",
        "plt.show()"
      ],
      "execution_count": 0,
      "outputs": [
        {
          "output_type": "display_data",
          "data": {
            "image/png": "[encoded data removed]",
            "text/plain": [
              "<Figure size 432x288 with 1 Axes>"
            ]
          },
          "metadata": {
            "tags": [],
            "needs_background": "light"
          }
        }
      ]
    },
    {
      "cell_type": "markdown",
      "metadata": {
        "id": "KwtIlcMoO7tO",
        "colab_type": "text"
      },
      "source": [
        "#Logistic Regression classifier "
      ]
    },
    {
      "cell_type": "markdown",
      "metadata": {
        "id": "5-3tdc4PapVn",
        "colab_type": "text"
      },
      "source": [
        "Report which parameter gives best result under the grid search procedure for Logistic Regression"
      ]
    },
    {
      "cell_type": "code",
      "metadata": {
        "id": "a3uH6aJLO7tP",
        "colab_type": "code",
        "outputId": "763f99c6-b890-494e-d22f-4a6cca6bfcb5",
        "colab": {
          "base_uri": "https://localhost:8080/",
          "height": 51
        }
      },
      "source": [
        "#find optimym hyperparameters for Logistic Regression \n",
        "log_reg = LogisticRegression(solver='liblinear', max_iter=200)\n",
        "param_grid = { \"penalty\" : [\"l1\", \"l2\"],\n",
        "         \"C\" : np.arange(60,80,2)}\n",
        "log_reg_gscv = GridSearchCV(estimator=log_reg, param_grid=param_grid ,cv=5) #Kfold value for cross validation is 5\n",
        "log_reg_gscv.fit(X_train, y_train)#to fit training data\n",
        "print(\"Tuned hyperparameters for Logistic Regression:\",log_reg_gscv.best_params_) \n",
        "print('Score for the top performing value ',log_reg_gscv.best_score_*100)"
      ],
      "execution_count": 0,
      "outputs": [
        {
          "output_type": "stream",
          "text": [
            "Tuned hyperparameters for Logistic Regression: {'C': 60, 'penalty': 'l1'}\n",
            "Score for the top performing value  66.37558110679129\n"
          ],
          "name": "stdout"
        }
      ]
    },
    {
      "cell_type": "markdown",
      "metadata": {
        "id": "u8rUtpDSO7tT",
        "colab_type": "text"
      },
      "source": [
        "Fitting the classifier with the parameters that yielded the best score in the grid search"
      ]
    },
    {
      "cell_type": "code",
      "metadata": {
        "id": "Zp2p89AvO7tT",
        "colab_type": "code",
        "outputId": "daad98b3-8212-4eaf-dc6b-aab2655a0d6b",
        "colab": {
          "base_uri": "https://localhost:8080/",
          "height": 102
        }
      },
      "source": [
        "#Tuned hyperparameters to test on validation set \n",
        "log_reg1 = LogisticRegression(solver='liblinear', max_iter=200, C=64,penalty='l1')\n",
        "log_reg1.fit(X_train, y_train)\n",
        "log_reg1_y_predict = log_reg1.predict(X_val) #prediction on validation \n",
        "# Print accuracy on training set \n",
        "print(\"Accuracy on training set :\"+str(log_reg1.score(X_train,y_train)*100)) \n",
        "#to get score on validation set \n",
        "print(\"Accuracy on val set:\",metrics.accuracy_score(y_val,log_reg1_y_predict )*100)\n",
        "print('Precission on val set:',metrics.precision_score(y_val,log_reg1_y_predict)*100)\n",
        "print('Recall on val set:',metrics.recall_score(y_val,log_reg1_y_predict)*100)\n",
        "print('F-score on val set:',metrics.f1_score(y_val,log_reg1_y_predict)*100)\n"
      ],
      "execution_count": 0,
      "outputs": [
        {
          "output_type": "stream",
          "text": [
            "Accuracy on training set :66.75764192139738\n",
            "Accuracy on val set: 66.85393258426966\n",
            "Precission on val set: 30.344827586206897\n",
            "Recall on val set: 72.1311475409836\n",
            "F-score on val set: 42.71844660194174\n"
          ],
          "name": "stdout"
        }
      ]
    },
    {
      "cell_type": "markdown",
      "metadata": {
        "id": "s663aKc3X6hD",
        "colab_type": "text"
      },
      "source": [
        "###Classification report on Test set"
      ]
    },
    {
      "cell_type": "code",
      "metadata": {
        "id": "8T8cuuspO7tj",
        "colab_type": "code",
        "outputId": "56285956-d321-4856-8968-d2cc131f8b83",
        "colab": {
          "base_uri": "https://localhost:8080/",
          "height": 187
        }
      },
      "source": [
        "#classification report to show differences between class 0 and class 1 \n",
        "log_reg_y_predict = log_reg1.predict(X_test)\n",
        "print('Classification Report:')\n",
        "print(metrics.classification_report(y_test, log_reg_y_predict))"
      ],
      "execution_count": 0,
      "outputs": [
        {
          "output_type": "stream",
          "text": [
            "Classification Report:\n",
            "              precision    recall  f1-score   support\n",
            "\n",
            "           0       0.93      0.66      0.77       348\n",
            "           1       0.21      0.67      0.32        48\n",
            "\n",
            "    accuracy                           0.66       396\n",
            "   macro avg       0.57      0.66      0.55       396\n",
            "weighted avg       0.85      0.66      0.72       396\n",
            "\n"
          ],
          "name": "stdout"
        }
      ]
    },
    {
      "cell_type": "code",
      "metadata": {
        "id": "yRBx6IDOO7tp",
        "colab_type": "code",
        "colab": {}
      },
      "source": [
        "#to zip all results together\n",
        "eval_scores = list()\n",
        "\n",
        "eval_scores.append(metrics.accuracy_score(y_test,log_reg_y_predict )*100)\n",
        "eval_scores.append(metrics.precision_score(y_test,log_reg_y_predict)*100)\n",
        "eval_scores.append(metrics.recall_score(y_test,log_reg_y_predict)*100)\n",
        "eval_scores.append(metrics.f1_score(y_test,log_reg_y_predict)*100)\n",
        "\n",
        "log_reg1_metrics_dict = dict(zip(eval_metrics, eval_scores))\n",
        "log_reg1_metrics_dict\n",
        "\n",
        "master_eval_dict.update({\"Log Reg\": log_reg1_metrics_dict})"
      ],
      "execution_count": 0,
      "outputs": []
    },
    {
      "cell_type": "code",
      "metadata": {
        "id": "LKcxRC31O7t6",
        "colab_type": "code",
        "colab": {}
      },
      "source": [
        ""
      ],
      "execution_count": 0,
      "outputs": []
    },
    {
      "cell_type": "markdown",
      "metadata": {
        "id": "tW3N5ctiO7uB",
        "colab_type": "text"
      },
      "source": [
        "Confusion Matrix for Logistic Regression"
      ]
    },
    {
      "cell_type": "code",
      "metadata": {
        "id": "5Ip8r4jVO7uB",
        "colab_type": "code",
        "outputId": "d1e8092e-91ca-4809-a668-a2793e5041db",
        "colab": {
          "base_uri": "https://localhost:8080/",
          "height": 345
        }
      },
      "source": [
        "# plotting confusion matrix Logistic Regression \n",
        "cnf_matrix_log = metrics.confusion_matrix(y_test, log_reg_y_predict)\n",
        "sns.heatmap(pd.DataFrame(cnf_matrix_log), annot=True,cmap=\"Reds\" , fmt='g')\n",
        "ax.xaxis.set_label_position(\"top\")\n",
        "plt.tight_layout()\n",
        "plt.title('Confusion matrix Logistic Regression \\n', y=1.1)"
      ],
      "execution_count": 0,
      "outputs": [
        {
          "output_type": "execute_result",
          "data": {
            "text/plain": [
              "Text(0.5, 1.1, 'Confusion matrix Logistic Regression \\n')"
            ]
          },
          "metadata": {
            "tags": []
          },
          "execution_count": 38
        },
        {
          "output_type": "display_data",
          "data": {
            "image/png": "[encoded data removed]",
            "text/plain": [
              "<Figure size 432x288 with 2 Axes>"
            ]
          },
          "metadata": {
            "tags": [],
            "needs_background": "light"
          }
        }
      ]
    },
    {
      "cell_type": "markdown",
      "metadata": {
        "id": "dDCY1vAQO7uK",
        "colab_type": "text"
      },
      "source": [
        "Normalized Confusion Matrix "
      ]
    },
    {
      "cell_type": "code",
      "metadata": {
        "id": "wfaWF47fO7uK",
        "colab_type": "code",
        "outputId": "eb1d6daf-68e5-412b-ea6f-a964f8c28daf",
        "colab": {
          "base_uri": "https://localhost:8080/",
          "height": 68
        }
      },
      "source": [
        "#normalized confusion matrix\n",
        "log_reg_cnf_mx = metrics.confusion_matrix(y_test, log_reg_y_predict)\n",
        "print(\"normalized confusion matrix\")\n",
        "log_reg_cnf_mx_joint = log_reg_cnf_mx.astype('float')/ log_reg_cnf_mx.sum()\n",
        "print(log_reg_cnf_mx_joint)"
      ],
      "execution_count": 0,
      "outputs": [
        {
          "output_type": "stream",
          "text": [
            "normalized confusion matrix\n",
            "[[0.58080808 0.2979798 ]\n",
            " [0.04040404 0.08080808]]\n"
          ],
          "name": "stdout"
        }
      ]
    },
    {
      "cell_type": "markdown",
      "metadata": {
        "id": "DCZFNWCbO7uS",
        "colab_type": "text"
      },
      "source": [
        "ROC for Logistic Regression "
      ]
    },
    {
      "cell_type": "code",
      "metadata": {
        "id": "goitHauEO7uT",
        "colab_type": "code",
        "outputId": "3e32ca20-87cd-44e0-ee77-6f9b31b2b438",
        "colab": {
          "base_uri": "https://localhost:8080/",
          "height": 295
        }
      },
      "source": [
        "#ROC curve for Log_Reg\n",
        "log_reg_roc = metrics.plot_roc_curve(log_reg1, X_test, y_test, name = \"Log_Reg\")\n",
        "plt.title('Log_Reg ROC curve')\n",
        "plt.show()"
      ],
      "execution_count": 0,
      "outputs": [
        {
          "output_type": "display_data",
          "data": {
            "image/png": "[encoded data removed]",
            "text/plain": [
              "<Figure size 432x288 with 1 Axes>"
            ]
          },
          "metadata": {
            "tags": [],
            "needs_background": "light"
          }
        }
      ]
    },
    {
      "cell_type": "code",
      "metadata": {
        "id": "zuV70fJmO7uW",
        "colab_type": "code",
        "colab": {}
      },
      "source": [
        ""
      ],
      "execution_count": 0,
      "outputs": []
    },
    {
      "cell_type": "markdown",
      "metadata": {
        "id": "Yd0rS4ibO7ud",
        "colab_type": "text"
      },
      "source": [
        "#Support Vector Classifier "
      ]
    },
    {
      "cell_type": "markdown",
      "metadata": {
        "id": "9f5SvLrbZ0NV",
        "colab_type": "text"
      },
      "source": [
        "Report which parameter gives best result under the grid search procedure for Support Vector Classifier"
      ]
    },
    {
      "cell_type": "code",
      "metadata": {
        "id": "GZOwQIGpO7ul",
        "colab_type": "code",
        "outputId": "057550c9-8b3c-4fd1-f261-02a36ffea4e5",
        "colab": {
          "base_uri": "https://localhost:8080/",
          "height": 51
        }
      },
      "source": [
        "#Report which parameter gives best result under the grid search procedure for Support Vector Classifier\n",
        "svc=svm.SVC(probability=True)\n",
        "param_grid = [ {'C':[1, 10], 'kernel':['rbf'], 'gamma':[0.1,0.5]},\n",
        "               {'C':[1, 10], 'kernel':['poly'] ,'gamma':[0.001, 0.0001]} ]\n",
        "# Create a classifier object with the classifier and parameter candidates\n",
        "svc_gscv = GridSearchCV(svc, param_grid=param_grid,cv=5) #Kfold is 5 \n",
        "svc_gscv.fit(X_train, y_train) #fit training data\n",
        "print(\"Tuned hyperparameters for svc:\",svc_gscv.best_params_) \n",
        "print(\"Accuracy on training set :\"+str(svc_gscv.score(X_train,y_train)*100))"
      ],
      "execution_count": 0,
      "outputs": [
        {
          "output_type": "stream",
          "text": [
            "Tuned hyperparameters for svc: {'C': 10, 'gamma': 0.5, 'kernel': 'rbf'}\n",
            "Accuracy on training set :99.745269286754\n"
          ],
          "name": "stdout"
        }
      ]
    },
    {
      "cell_type": "markdown",
      "metadata": {
        "id": "7Ntx3Z2zO7uq",
        "colab_type": "text"
      },
      "source": [
        "Fitting the classifier with the parameters that yielded the best score in the grid search."
      ]
    },
    {
      "cell_type": "code",
      "metadata": {
        "id": "euLyXY6tO7ur",
        "colab_type": "code",
        "outputId": "3e813574-8d72-421c-fa36-0a3184dd9200",
        "colab": {
          "base_uri": "https://localhost:8080/",
          "height": 102
        }
      },
      "source": [
        "#Tuned hyperparameters to test on validation set \n",
        "svc= svm.SVC(**svc_gscv.best_params_,probability=True)\n",
        "svc.fit(X_train, y_train)#fit training data with optimal parameters\n",
        "svc_y_predict = svc.predict(X_val) #prediction on validation \n",
        "# Print accuracy on training set \n",
        "print(\"Accuracy on training set :\"+str(svc.score(X_train,y_train)*100)) \n",
        "#to get score on validation set \n",
        "print(\"Accuracy on val set:\",metrics.accuracy_score(y_val,svc_y_predict )*100)\n",
        "print('Precission on val set:',metrics.precision_score(y_val,svc_y_predict)*100)\n",
        "print('Recall on val set:',metrics.recall_score(y_val,svc_y_predict)*100)\n",
        "print('F-score on val set:',metrics.f1_score(y_val,svc_y_predict)*100)\n"
      ],
      "execution_count": 0,
      "outputs": [
        {
          "output_type": "stream",
          "text": [
            "Accuracy on training set :99.745269286754\n",
            "Accuracy on val set: 75.84269662921348\n",
            "Precission on val set: 22.22222222222222\n",
            "Recall on val set: 16.39344262295082\n",
            "F-score on val set: 18.867924528301888\n"
          ],
          "name": "stdout"
        }
      ]
    },
    {
      "cell_type": "markdown",
      "metadata": {
        "id": "WI431UsJYF1S",
        "colab_type": "text"
      },
      "source": [
        "###Classification report on Test set"
      ]
    },
    {
      "cell_type": "code",
      "metadata": {
        "id": "RIAflaTLO7vP",
        "colab_type": "code",
        "outputId": "4bc29e7b-b4b3-42e5-eb08-be5ae0862bf2",
        "colab": {
          "base_uri": "https://localhost:8080/",
          "height": 187
        }
      },
      "source": [
        "#classification report to show differences between class 0 and class 1 \n",
        "svc_y_predict = svc.predict(X_test)\n",
        "print('Classification Report:')\n",
        "print(metrics.classification_report(y_test, svc_y_predict))"
      ],
      "execution_count": 0,
      "outputs": [
        {
          "output_type": "stream",
          "text": [
            "Classification Report:\n",
            "              precision    recall  f1-score   support\n",
            "\n",
            "           0       0.89      0.92      0.90       348\n",
            "           1       0.22      0.17      0.19        48\n",
            "\n",
            "    accuracy                           0.83       396\n",
            "   macro avg       0.56      0.54      0.55       396\n",
            "weighted avg       0.81      0.83      0.82       396\n",
            "\n"
          ],
          "name": "stdout"
        }
      ]
    },
    {
      "cell_type": "code",
      "metadata": {
        "id": "TQyNj41-O7vU",
        "colab_type": "code",
        "colab": {}
      },
      "source": [
        "#to zip all results togeter\n",
        "eval_scores = list()\n",
        "\n",
        "eval_scores.append(metrics.accuracy_score(y_test,svc_y_predict )*100)\n",
        "eval_scores.append(metrics.precision_score(y_test,svc_y_predict)*100)\n",
        "eval_scores.append(metrics.recall_score(y_test,svc_y_predict)*100)\n",
        "eval_scores.append(metrics.f1_score(y_test,svc_y_predict)*100)\n",
        "\n",
        "svc_metrics_dict = dict(zip(eval_metrics, eval_scores))\n",
        "svc_metrics_dict\n",
        "\n",
        "master_eval_dict.update({\"SVC\": svc_metrics_dict})"
      ],
      "execution_count": 0,
      "outputs": []
    },
    {
      "cell_type": "markdown",
      "metadata": {
        "id": "iNA9fT8JO7vX",
        "colab_type": "text"
      },
      "source": [
        "Confusion Matrix for Support Vecto Classifier "
      ]
    },
    {
      "cell_type": "code",
      "metadata": {
        "id": "r9qgbzOfO7vZ",
        "colab_type": "code",
        "outputId": "681c18e0-f9a5-4588-9407-8db815b9fd1a",
        "colab": {
          "base_uri": "https://localhost:8080/",
          "height": 345
        }
      },
      "source": [
        "# plotting confusion matrix Support Vector\n",
        "cnf_matrix_log = metrics.confusion_matrix(y_test,svc_y_predict )\n",
        "sns.heatmap(pd.DataFrame(cnf_matrix_log), annot=True,cmap=\"Reds\" , fmt='g')\n",
        "ax.xaxis.set_label_position(\"top\")\n",
        "plt.tight_layout()\n",
        "plt.title('Confusion matrix Support Vector \\n', y=1.1)"
      ],
      "execution_count": 0,
      "outputs": [
        {
          "output_type": "execute_result",
          "data": {
            "text/plain": [
              "Text(0.5, 1.1, 'Confusion matrix Support Vector \\n')"
            ]
          },
          "metadata": {
            "tags": []
          },
          "execution_count": 45
        },
        {
          "output_type": "display_data",
          "data": {
            "image/png": "[encoded data removed]",
            "text/plain": [
              "<Figure size 432x288 with 2 Axes>"
            ]
          },
          "metadata": {
            "tags": [],
            "needs_background": "light"
          }
        }
      ]
    },
    {
      "cell_type": "markdown",
      "metadata": {
        "id": "P_pCAJEhO7vj",
        "colab_type": "text"
      },
      "source": [
        "Normalized confusion matrix"
      ]
    },
    {
      "cell_type": "code",
      "metadata": {
        "id": "0wOu56pXO7vk",
        "colab_type": "code",
        "outputId": "2e63f560-0f5b-4688-92d5-cd0e885843ca",
        "colab": {
          "base_uri": "https://localhost:8080/",
          "height": 68
        }
      },
      "source": [
        "#normalized confusion matrix\n",
        "svc_cnf_mx = metrics.confusion_matrix(y_test, svc_y_predict)\n",
        "print(\"Normalized confusion matrix\")\n",
        "svc_cnf_mx_joint = svc_cnf_mx.astype('float')/ svc_cnf_mx.sum()\n",
        "print(svc_cnf_mx_joint)"
      ],
      "execution_count": 0,
      "outputs": [
        {
          "output_type": "stream",
          "text": [
            "Normalized confusion matrix\n",
            "[[0.80808081 0.07070707]\n",
            " [0.1010101  0.02020202]]\n"
          ],
          "name": "stdout"
        }
      ]
    },
    {
      "cell_type": "markdown",
      "metadata": {
        "id": "paJHNh74O7vp",
        "colab_type": "text"
      },
      "source": [
        "ROC curve for SVC"
      ]
    },
    {
      "cell_type": "code",
      "metadata": {
        "id": "IrLgtI2lO7vq",
        "colab_type": "code",
        "outputId": "35f23353-f259-4f64-dec5-b22c6012d98a",
        "colab": {
          "base_uri": "https://localhost:8080/",
          "height": 295
        }
      },
      "source": [
        "#ROC curve for SVC\n",
        "svc_roc = metrics.plot_roc_curve(svc, X_test, y_test, name = \"SVC\")\n",
        "plt.title('Support Vector ROC curve')\n",
        "plt.show()"
      ],
      "execution_count": 0,
      "outputs": [
        {
          "output_type": "display_data",
          "data": {
            "image/png": "[encoded data removed]",
            "text/plain": [
              "<Figure size 432x288 with 1 Axes>"
            ]
          },
          "metadata": {
            "tags": [],
            "needs_background": "light"
          }
        }
      ]
    },
    {
      "cell_type": "markdown",
      "metadata": {
        "id": "Durdv8H3O7vs",
        "colab_type": "text"
      },
      "source": [
        "#KNN Classifier "
      ]
    },
    {
      "cell_type": "markdown",
      "metadata": {
        "id": "SmTLXsWha1tr",
        "colab_type": "text"
      },
      "source": [
        "Report which parameter gives best result under the grid search procedure for KNN Classifier"
      ]
    },
    {
      "cell_type": "code",
      "metadata": {
        "id": "UY4Q_q01O7vt",
        "colab_type": "code",
        "outputId": "81bccb93-ac2a-4be0-836a-f0f8bc8ef2f9",
        "colab": {
          "base_uri": "https://localhost:8080/",
          "height": 51
        }
      },
      "source": [
        "#Report which parameter gives best result under the grid search \n",
        "knn = KNeighborsClassifier()\n",
        "#create a dictionary of all values we want to test for n_neighbors\n",
        "param_grid = {'n_neighbors': np.arange(1, 50)}\n",
        "#use gridsearch to test all values for n_neighbors\n",
        "knn_gscv = GridSearchCV(knn, param_grid, cv=5)\n",
        "#fit model to data\n",
        "knn_gscv.fit( X_train, y_train)\n",
        "#check top performing n_neighbors value\n",
        "print('top performing n_neighbors value:',knn_gscv.best_params_)\n",
        "print(\"Accuracy on training set :\"+str(knn_gscv.score(X_train,y_train)*100)) "
      ],
      "execution_count": 0,
      "outputs": [
        {
          "output_type": "stream",
          "text": [
            "top performing n_neighbors value: {'n_neighbors': 2}\n",
            "Accuracy on training set :99.47234352256187\n"
          ],
          "name": "stdout"
        }
      ]
    },
    {
      "cell_type": "markdown",
      "metadata": {
        "id": "Ww9y1UCqO7vw",
        "colab_type": "text"
      },
      "source": [
        "Fitting the classifier with the parameters that yielded the best score in the grid search."
      ]
    },
    {
      "cell_type": "code",
      "metadata": {
        "id": "9u0zIrKjO7vx",
        "colab_type": "code",
        "outputId": "fed39624-7c0a-431b-fcae-4ec0f4dec679",
        "colab": {
          "base_uri": "https://localhost:8080/",
          "height": 102
        }
      },
      "source": [
        "#Tuned hyperparameters to test on validation set \n",
        "knn = KNeighborsClassifier(**knn_gscv.best_params_)\n",
        "knn.fit(X_train, y_train)#to fit training set with optimal  parameters \n",
        "knn_y_predict = knn.predict(X_val) #prediction on validation \n",
        "# Print accuracy on training set \n",
        "print(\"Accuracy on training set :\"+str(knn.score(X_train,y_train)*100)) \n",
        "#to get score on validation set \n",
        "print(\"Accuracy on val set:\",metrics.accuracy_score(y_val,knn_y_predict )*100)\n",
        "print('Precission on val set:',metrics.precision_score(y_val,knn_y_predict)*100)\n",
        "print('Recall on val set:',metrics.recall_score(y_val,knn_y_predict)*100)\n",
        "print('F-score on val set:',metrics.f1_score(y_val,knn_y_predict)*100)"
      ],
      "execution_count": 0,
      "outputs": [
        {
          "output_type": "stream",
          "text": [
            "Accuracy on training set :99.47234352256187\n",
            "Accuracy on val set: 73.03370786516854\n",
            "Precission on val set: 19.298245614035086\n",
            "Recall on val set: 18.0327868852459\n",
            "F-score on val set: 18.644067796610166\n"
          ],
          "name": "stdout"
        }
      ]
    },
    {
      "cell_type": "markdown",
      "metadata": {
        "id": "Gmqoham1YSt2",
        "colab_type": "text"
      },
      "source": [
        "###Classification report on Test set"
      ]
    },
    {
      "cell_type": "code",
      "metadata": {
        "id": "ZN3FPBJcO7v5",
        "colab_type": "code",
        "outputId": "20a1a480-1e2e-4fad-f1aa-9b6cf3859712",
        "colab": {
          "base_uri": "https://localhost:8080/",
          "height": 187
        }
      },
      "source": [
        "#classification report to show differences between class 0 and class 1 \n",
        "knn_y_predict = knn.predict(X_test)\n",
        "print('Classification Report:')\n",
        "print(metrics.classification_report(y_test, knn_y_predict))"
      ],
      "execution_count": 0,
      "outputs": [
        {
          "output_type": "stream",
          "text": [
            "Classification Report:\n",
            "              precision    recall  f1-score   support\n",
            "\n",
            "           0       0.89      0.84      0.86       348\n",
            "           1       0.18      0.25      0.21        48\n",
            "\n",
            "    accuracy                           0.77       396\n",
            "   macro avg       0.53      0.54      0.54       396\n",
            "weighted avg       0.80      0.77      0.78       396\n",
            "\n"
          ],
          "name": "stdout"
        }
      ]
    },
    {
      "cell_type": "code",
      "metadata": {
        "id": "3asCkYrbO7v7",
        "colab_type": "code",
        "colab": {}
      },
      "source": [
        ""
      ],
      "execution_count": 0,
      "outputs": []
    },
    {
      "cell_type": "code",
      "metadata": {
        "id": "Ioxsk1oJO7v9",
        "colab_type": "code",
        "colab": {}
      },
      "source": [
        "#to zip results together \n",
        "eval_scores = list()\n",
        "\n",
        "eval_scores.append(metrics.accuracy_score(y_test,knn_y_predict )*100)\n",
        "eval_scores.append(metrics.precision_score(y_test,knn_y_predict)*100)\n",
        "eval_scores.append(metrics.recall_score(y_test,knn_y_predict)*100)\n",
        "eval_scores.append(metrics.f1_score(y_test,knn_y_predict)*100)\n",
        "\n",
        "knn_metrics_dict = dict(zip(eval_metrics, eval_scores))\n",
        "knn_metrics_dict\n",
        "\n",
        "master_eval_dict.update({\"KNN\": knn_metrics_dict})"
      ],
      "execution_count": 0,
      "outputs": []
    },
    {
      "cell_type": "markdown",
      "metadata": {
        "id": "PAAGViuTO7v_",
        "colab_type": "text"
      },
      "source": [
        "####KNN Confusion Matrix "
      ]
    },
    {
      "cell_type": "code",
      "metadata": {
        "id": "Qa-F6Ot1O7wE",
        "colab_type": "code",
        "outputId": "32d9f8c4-9bb7-4df8-d432-cce211f26f9c",
        "colab": {
          "base_uri": "https://localhost:8080/",
          "height": 345
        }
      },
      "source": [
        "# plotting confusion matrix KNN\n",
        "cnf_matrix_log = metrics.confusion_matrix(y_test, knn_y_predict)\n",
        "sns.heatmap(pd.DataFrame(cnf_matrix_log), annot=True,cmap=\"Reds\" , fmt='g')\n",
        "ax.xaxis.set_label_position(\"top\")\n",
        "plt.tight_layout()\n",
        "plt.title('Confusion matrix KNN \\n', y=1.1)"
      ],
      "execution_count": 0,
      "outputs": [
        {
          "output_type": "execute_result",
          "data": {
            "text/plain": [
              "Text(0.5, 1.1, 'Confusion matrix KNN \\n')"
            ]
          },
          "metadata": {
            "tags": []
          },
          "execution_count": 52
        },
        {
          "output_type": "display_data",
          "data": {
            "image/png": "[encoded data removed]",
            "text/plain": [
              "<Figure size 432x288 with 2 Axes>"
            ]
          },
          "metadata": {
            "tags": [],
            "needs_background": "light"
          }
        }
      ]
    },
    {
      "cell_type": "markdown",
      "metadata": {
        "id": "0Gwlda_EZKgZ",
        "colab_type": "text"
      },
      "source": [
        "###normalized confusion matrix"
      ]
    },
    {
      "cell_type": "code",
      "metadata": {
        "id": "15rp1O1mO7wW",
        "colab_type": "code",
        "outputId": "0e59228b-c0b5-47b6-e9ce-eda3f1968afd",
        "colab": {
          "base_uri": "https://localhost:8080/",
          "height": 68
        }
      },
      "source": [
        "#normalized confusion matrix\n",
        "knn_cnf_mx = metrics.confusion_matrix(y_test, knn_y_predict)\n",
        "print(\"Normalized confusion matrix\")\n",
        "knn_cnf_mx_joint = knn_cnf_mx.astype('float')/ knn_cnf_mx.sum()\n",
        "print(knn_cnf_mx_joint)"
      ],
      "execution_count": 0,
      "outputs": [
        {
          "output_type": "stream",
          "text": [
            "Normalized confusion matrix\n",
            "[[0.73737374 0.14141414]\n",
            " [0.09090909 0.03030303]]\n"
          ],
          "name": "stdout"
        }
      ]
    },
    {
      "cell_type": "markdown",
      "metadata": {
        "id": "ak5iyiaZZUfB",
        "colab_type": "text"
      },
      "source": [
        "####ROC curve for KNN"
      ]
    },
    {
      "cell_type": "code",
      "metadata": {
        "id": "hi2R4_apO7wY",
        "colab_type": "code",
        "outputId": "d7371c1c-ec2d-4784-cf1a-086eacb5b8e9",
        "colab": {
          "base_uri": "https://localhost:8080/",
          "height": 295
        }
      },
      "source": [
        "#ROC curve for KNN\n",
        "knn_roc = metrics.plot_roc_curve(knn, X_test, y_test, name = \"KNN\")\n",
        "plt.title('KNN ROC curve')\n",
        "plt.show()"
      ],
      "execution_count": 0,
      "outputs": [
        {
          "output_type": "display_data",
          "data": {
            "image/png": "[encoded data removed]",
            "text/plain": [
              "<Figure size 432x288 with 1 Axes>"
            ]
          },
          "metadata": {
            "tags": [],
            "needs_background": "light"
          }
        }
      ]
    },
    {
      "cell_type": "markdown",
      "metadata": {
        "id": "ELrgPqkQZeq9",
        "colab_type": "text"
      },
      "source": [
        "#Decision Tree Classifier"
      ]
    },
    {
      "cell_type": "markdown",
      "metadata": {
        "id": "5QaaaJqVa-_b",
        "colab_type": "text"
      },
      "source": [
        "Report which parameter gives best result under the grid search procedure for Decision Tree"
      ]
    },
    {
      "cell_type": "code",
      "metadata": {
        "id": "t8DedB95O7wk",
        "colab_type": "code",
        "outputId": "e5c6ebc4-9aba-4a22-c49d-dde253031518",
        "colab": {
          "base_uri": "https://localhost:8080/",
          "height": 51
        }
      },
      "source": [
        "#report which parameter gives best results with grid search\n",
        "dt = DecisionTreeClassifier()\n",
        "# Train Decision Tree Classifer\n",
        "param_grid = {'max_depth': np.arange(2, 11),\n",
        "               'min_samples_leaf': np.arange(2, 11),\n",
        "               'criterion':['gini','entropy']}              \n",
        "dt_gscv = GridSearchCV(dt, param_grid=param_grid, cv=5) #Kfold is 5 \n",
        "dt_gscv.fit(X_train,y_train)#to fit training set \n",
        "print(\"Tuned hyperparameters:\",dt_gscv.best_params_) \n",
        "print('Score for the top performing value ',dt_gscv.best_score_*100)"
      ],
      "execution_count": 0,
      "outputs": [
        {
          "output_type": "stream",
          "text": [
            "Tuned hyperparameters: {'criterion': 'gini', 'max_depth': 10, 'min_samples_leaf': 2}\n",
            "Score for the top performing value  75.21940607163538\n"
          ],
          "name": "stdout"
        }
      ]
    },
    {
      "cell_type": "code",
      "metadata": {
        "id": "g59e4DXhO7wm",
        "colab_type": "code",
        "outputId": "6cebd5b0-c63c-4800-8fc4-08da0dd3af53",
        "colab": {
          "base_uri": "https://localhost:8080/",
          "height": 102
        }
      },
      "source": [
        "dt = DecisionTreeClassifier(**dt_gscv.best_params_)\n",
        "#  fit on train data with tuned hyperparameters\n",
        "dt.fit(X_train, y_train)#fir training set with optimal parameters \n",
        "dt_y_predict = dt.predict(X_val) #prediction on validation set\n",
        "# Print accuracy on training set \n",
        "print(\"Accuracy on training set :\"+str(dt.score(X_train,y_train)*100)) \n",
        "#to get score on validation set \n",
        "print(\"Accuracy on val set:\",metrics.accuracy_score(y_val,dt_y_predict )*100)\n",
        "print('Precission on val set:',metrics.precision_score(y_val,dt_y_predict)*100)\n",
        "print('Recall on val set:',metrics.recall_score(y_val,dt_y_predict)*100)\n",
        "print('F-score on val set:',metrics.f1_score(y_val,dt_y_predict)*100)"
      ],
      "execution_count": 0,
      "outputs": [
        {
          "output_type": "stream",
          "text": [
            "Accuracy on training set :83.20596797671034\n",
            "Accuracy on val set: 71.62921348314607\n",
            "Precission on val set: 25.0\n",
            "Recall on val set: 32.78688524590164\n",
            "F-score on val set: 28.368794326241137\n"
          ],
          "name": "stdout"
        }
      ]
    },
    {
      "cell_type": "markdown",
      "metadata": {
        "id": "PO1SDeJBeHZI",
        "colab_type": "text"
      },
      "source": [
        "###Classification Report on Test set "
      ]
    },
    {
      "cell_type": "code",
      "metadata": {
        "id": "NsekA0SzO7ww",
        "colab_type": "code",
        "outputId": "75b933bb-d41e-4dfb-d91c-66573bd9acfb",
        "colab": {
          "base_uri": "https://localhost:8080/",
          "height": 187
        }
      },
      "source": [
        "#classification report to show differences between class 0 and class 1 \n",
        "dt_y_predict = dt.predict(X_test)\n",
        "print('Classification Report:')\n",
        "print(metrics.classification_report(y_test, dt_y_predict))"
      ],
      "execution_count": 0,
      "outputs": [
        {
          "output_type": "stream",
          "text": [
            "Classification Report:\n",
            "              precision    recall  f1-score   support\n",
            "\n",
            "           0       0.92      0.80      0.86       348\n",
            "           1       0.26      0.50      0.34        48\n",
            "\n",
            "    accuracy                           0.77       396\n",
            "   macro avg       0.59      0.65      0.60       396\n",
            "weighted avg       0.84      0.77      0.79       396\n",
            "\n"
          ],
          "name": "stdout"
        }
      ]
    },
    {
      "cell_type": "code",
      "metadata": {
        "id": "QG6yqGpFO7wz",
        "colab_type": "code",
        "colab": {}
      },
      "source": [
        "#to zip rezults together\n",
        "eval_scores = list()\n",
        "\n",
        "eval_scores.append(metrics.accuracy_score(y_test,dt_y_predict )*100)\n",
        "eval_scores.append(metrics.precision_score(y_test,dt_y_predict)*100)\n",
        "eval_scores.append(metrics.recall_score(y_test,dt_y_predict)*100)\n",
        "eval_scores.append(metrics.f1_score(y_test,dt_y_predict)*100)\n",
        "\n",
        "dt_metrics_dict = dict(zip(eval_metrics, eval_scores))\n",
        "dt_metrics_dict\n",
        "\n",
        "master_eval_dict.update({\"DT\": dt_metrics_dict})"
      ],
      "execution_count": 0,
      "outputs": []
    },
    {
      "cell_type": "markdown",
      "metadata": {
        "id": "VFFZJkmXeXpX",
        "colab_type": "text"
      },
      "source": [
        "Confusion Matrix for Decision Tree"
      ]
    },
    {
      "cell_type": "code",
      "metadata": {
        "id": "H6fIUXS8O7w5",
        "colab_type": "code",
        "outputId": "4aed6078-5cc4-4777-fffe-f6efe964adae",
        "colab": {
          "base_uri": "https://localhost:8080/",
          "height": 345
        }
      },
      "source": [
        "# plotting confusion matrix Decision Tree\n",
        "cnf_matrix_log = metrics.confusion_matrix(y_test, dt_y_predict)\n",
        "sns.heatmap(pd.DataFrame(cnf_matrix_log), annot=True,cmap=\"Reds\" , fmt='g')\n",
        "ax.xaxis.set_label_position(\"top\")\n",
        "plt.tight_layout()\n",
        "plt.title('Confusion matrix Decision Tree \\n', y=1.1)"
      ],
      "execution_count": 0,
      "outputs": [
        {
          "output_type": "execute_result",
          "data": {
            "text/plain": [
              "Text(0.5, 1.1, 'Confusion matrix Decision Tree \\n')"
            ]
          },
          "metadata": {
            "tags": []
          },
          "execution_count": 59
        },
        {
          "output_type": "display_data",
          "data": {
            "image/png": "[encoded data removed]",
            "text/plain": [
              "<Figure size 432x288 with 2 Axes>"
            ]
          },
          "metadata": {
            "tags": [],
            "needs_background": "light"
          }
        }
      ]
    },
    {
      "cell_type": "markdown",
      "metadata": {
        "id": "XKwWiUtEegIy",
        "colab_type": "text"
      },
      "source": [
        "Normalized Confusion Matrix"
      ]
    },
    {
      "cell_type": "code",
      "metadata": {
        "id": "aNeqgvLcO7w-",
        "colab_type": "code",
        "outputId": "c2ea313f-c308-4d38-b7f0-c0aa03ecf211",
        "colab": {
          "base_uri": "https://localhost:8080/",
          "height": 68
        }
      },
      "source": [
        "#normalized confusion matrix\n",
        "dt_cnf_mx = metrics.confusion_matrix(y_test, dt_y_predict)\n",
        "print(\"Normalized confusion matrix\")\n",
        "dt_cnf_mx_joint = dt_cnf_mx.astype('float')/ dt_cnf_mx.sum()\n",
        "print(dt_cnf_mx_joint)"
      ],
      "execution_count": 0,
      "outputs": [
        {
          "output_type": "stream",
          "text": [
            "Normalized confusion matrix\n",
            "[[0.70454545 0.17424242]\n",
            " [0.06060606 0.06060606]]\n"
          ],
          "name": "stdout"
        }
      ]
    },
    {
      "cell_type": "markdown",
      "metadata": {
        "id": "DoFMQwAmemxf",
        "colab_type": "text"
      },
      "source": [
        "ROC curve for Decision Tree"
      ]
    },
    {
      "cell_type": "code",
      "metadata": {
        "id": "Rt69pUsOO7xA",
        "colab_type": "code",
        "outputId": "884dff14-a52c-4b12-baa7-704972bd9384",
        "colab": {
          "base_uri": "https://localhost:8080/",
          "height": 295
        }
      },
      "source": [
        "#ROC curve for Decision tree\n",
        "dt_roc = metrics.plot_roc_curve(dt, X_test, y_test, name = \"DT\")\n",
        "plt.title('DT ROC curve')\n",
        "plt.show()"
      ],
      "execution_count": 0,
      "outputs": [
        {
          "output_type": "display_data",
          "data": {
            "image/png": "[encoded data removed]",
            "text/plain": [
              "<Figure size 432x288 with 1 Axes>"
            ]
          },
          "metadata": {
            "tags": [],
            "needs_background": "light"
          }
        }
      ]
    },
    {
      "cell_type": "code",
      "metadata": {
        "id": "DF03Ms6dO7xC",
        "colab_type": "code",
        "colab": {}
      },
      "source": [
        ""
      ],
      "execution_count": 0,
      "outputs": []
    },
    {
      "cell_type": "code",
      "metadata": {
        "id": "72UMJjLRO7xI",
        "colab_type": "code",
        "colab": {}
      },
      "source": [
        ""
      ],
      "execution_count": 0,
      "outputs": []
    },
    {
      "cell_type": "code",
      "metadata": {
        "id": "UBJcaklJO7xJ",
        "colab_type": "code",
        "colab": {}
      },
      "source": [
        ""
      ],
      "execution_count": 0,
      "outputs": []
    },
    {
      "cell_type": "markdown",
      "metadata": {
        "id": "9wjZUEc3O7xN",
        "colab_type": "text"
      },
      "source": [
        "#Summary"
      ]
    },
    {
      "cell_type": "markdown",
      "metadata": {
        "id": "EJtVEe9NfqGx",
        "colab_type": "text"
      },
      "source": [
        "Summary bar plot for each classifier "
      ]
    },
    {
      "cell_type": "code",
      "metadata": {
        "id": "T2we8g96O7xN",
        "colab_type": "code",
        "outputId": "6e61ea35-75ab-43e2-ac1b-cfafdfee2430",
        "colab": {
          "base_uri": "https://localhost:8080/",
          "height": 357
        }
      },
      "source": [
        "master_eval_dict"
      ],
      "execution_count": 0,
      "outputs": [
        {
          "output_type": "execute_result",
          "data": {
            "text/plain": [
              "{'DT': {'accuracy': 76.51515151515152,\n",
              "  'f1': 34.04255319148936,\n",
              "  'precision': 25.806451612903224,\n",
              "  'recall': 50.0},\n",
              " 'KNN': {'accuracy': 76.76767676767676,\n",
              "  'f1': 20.689655172413794,\n",
              "  'precision': 17.647058823529413,\n",
              "  'recall': 25.0},\n",
              " 'Log Reg': {'accuracy': 66.16161616161617,\n",
              "  'f1': 32.32323232323232,\n",
              "  'precision': 21.333333333333336,\n",
              "  'recall': 66.66666666666666},\n",
              " 'RF': {'accuracy': 82.57575757575758,\n",
              "  'f1': 25.80645161290323,\n",
              "  'precision': 26.666666666666668,\n",
              "  'recall': 25.0},\n",
              " 'SVC': {'accuracy': 82.82828282828282,\n",
              "  'f1': 19.04761904761905,\n",
              "  'precision': 22.22222222222222,\n",
              "  'recall': 16.666666666666664}}"
            ]
          },
          "metadata": {
            "tags": []
          },
          "execution_count": 62
        }
      ]
    },
    {
      "cell_type": "code",
      "metadata": {
        "id": "JVVlrZ65O7xP",
        "colab_type": "code",
        "outputId": "929b90f1-796d-4649-9991-3e90bcd80b96",
        "colab": {
          "base_uri": "https://localhost:8080/",
          "height": 102
        }
      },
      "source": [
        "# Convert all metrics for each model to a dataframe.\n",
        "master_eval_dict_df = pd.DataFrame(master_eval_dict)\n",
        "master_eval_dict_df[\"metric\"] = eval_metrics\n",
        "print(master_eval_dict_df.head())"
      ],
      "execution_count": 0,
      "outputs": [
        {
          "output_type": "stream",
          "text": [
            "                  RF    Log Reg        SVC        KNN         DT     metric\n",
            "accuracy   82.575758  66.161616  82.828283  76.767677  76.515152   accuracy\n",
            "precision  26.666667  21.333333  22.222222  17.647059  25.806452  precision\n",
            "recall     25.000000  66.666667  16.666667  25.000000  50.000000     recall\n",
            "f1         25.806452  32.323232  19.047619  20.689655  34.042553         f1\n"
          ],
          "name": "stdout"
        }
      ]
    },
    {
      "cell_type": "code",
      "metadata": {
        "id": "XjfUC2CgO7xR",
        "colab_type": "code",
        "outputId": "146683f2-bf45-487f-ab7d-56e36922e3b2",
        "colab": {
          "base_uri": "https://localhost:8080/",
          "height": 119
        }
      },
      "source": [
        "master_eval_dict_long = pd.melt(master_eval_dict_df, \n",
        "                                        id_vars = \"metric\",\n",
        "                                        var_name = \"model\",\n",
        "                                        value_vars = list(master_eval_dict.keys()))\n",
        "print(master_eval_dict_long.head())"
      ],
      "execution_count": 0,
      "outputs": [
        {
          "output_type": "stream",
          "text": [
            "      metric    model      value\n",
            "0   accuracy       RF  82.575758\n",
            "1  precision       RF  26.666667\n",
            "2     recall       RF  25.000000\n",
            "3         f1       RF  25.806452\n",
            "4   accuracy  Log Reg  66.161616\n"
          ],
          "name": "stdout"
        }
      ]
    },
    {
      "cell_type": "code",
      "metadata": {
        "id": "B2UEYMSrO7xU",
        "colab_type": "code",
        "outputId": "376dee4d-70d9-4026-bd69-a254193ee9ed",
        "colab": {
          "base_uri": "https://localhost:8080/",
          "height": 597
        }
      },
      "source": [
        "# Create a 2X3 grid.\n",
        "fig, axes = plt.subplots(1, 4, figsize = (14, 8))\n",
        "# For each group in a grouped by metric dataframe, assign a metric to an axis object.\n",
        "for (metric, group), ax in zip(master_eval_dict_long.groupby(\"metric\"), axes.flatten()):\n",
        "    # Plot each metric as a bar plot.\n",
        "    group.plot(x = 'model',                                #<- model on x-axis\n",
        "               y = 'value',                                #<- metric value on y-axis\n",
        "               kind = 'bar',                               #<- bar plot \n",
        "               color = [\"red\", \"green\", \"blue\", \"orange\",\"purple\"], #<- color for each model\n",
        "               ax = ax,                                    \n",
        "               title = metric,                             \n",
        "               legend = None,                              \n",
        "               sharex = True)                              \n",
        "    ax.xaxis.set_tick_params(rotation = 45)               \n",
        "plt.tight_layout(0.5)   \n",
        "                                \n",
        "plt.show()"
      ],
      "execution_count": 0,
      "outputs": [
        {
          "output_type": "display_data",
          "data": {
            "image/png": "[encoded data removed]",
            "text/plain": [
              "<Figure size 1008x576 with 4 Axes>"
            ]
          },
          "metadata": {
            "tags": [],
            "needs_background": "light"
          }
        }
      ]
    },
    {
      "cell_type": "markdown",
      "metadata": {
        "id": "azCwUsBRf2M-",
        "colab_type": "text"
      },
      "source": [
        "Summary ROC curve for each classifier "
      ]
    },
    {
      "cell_type": "code",
      "metadata": {
        "id": "eJ9bntXcO7xa",
        "colab_type": "code",
        "outputId": "c4aa715d-3cc7-488a-ce48-b1cac449697b",
        "colab": {
          "base_uri": "https://localhost:8080/",
          "height": 295
        }
      },
      "source": [
        "ax = plt.gca()\n",
        "knn_roc.plot(ax = ax, name = \"KNN\")\n",
        "log_reg_roc.plot(ax = ax, name = \"Log Reg\")\n",
        "svc_roc.plot(ax = ax, name = \"SVC\")\n",
        "rf_roc.plot(ax = ax, name = \"RF\")\n",
        "dt_roc.plot(ax=ax,name=\"DecisionTree\")\n",
        "plt.title('Summary of ROC curve for each classifier')\n",
        "plt.show()"
      ],
      "execution_count": 0,
      "outputs": [
        {
          "output_type": "display_data",
          "data": {
            "image/png": "[encoded data removed]",
            "text/plain": [
              "<Figure size 432x288 with 1 Axes>"
            ]
          },
          "metadata": {
            "tags": [],
            "needs_background": "light"
          }
        }
      ]
    },
    {
      "cell_type": "markdown",
      "metadata": {
        "id": "ekLaLD-Nf9T5",
        "colab_type": "text"
      },
      "source": [
        "Table summary with Metrics values for each classifier "
      ]
    },
    {
      "cell_type": "code",
      "metadata": {
        "id": "5zC2NHBAO7xo",
        "colab_type": "code",
        "outputId": "b411694b-99cc-459b-8c1c-93c9928bb18e",
        "colab": {
          "base_uri": "https://localhost:8080/",
          "height": 145
        }
      },
      "source": [
        "knn=KNeighborsClassifier(**knn_gscv.best_params_)\n",
        "rf = RandomForestClassifier(**rf_gscv.best_params_)\n",
        "svc= svm.SVC(**svc_gscv.best_params_,probability=True)\n",
        "lr=LogisticRegression(**log_reg_gscv.best_params_,solver='liblinear', max_iter=200)\n",
        "dt=tree = DecisionTreeClassifier(**dt_gscv.best_params_)\n",
        "# iterations\n",
        "classifiers = [knn,svc,lr,rf,dt]\n",
        "names = ['KNN','Support Vector Classifier','Logistic Regression','Random Forest','Decision Tree']\n",
        "results = []\n",
        "\n",
        "for name, clf in zip(names, classifiers):\n",
        "    model = clf.fit(X_train, y_train)\n",
        "    y_predict = model.predict(X_test)\n",
        "    accuracy = metrics.accuracy_score(y_test, y_predict)*100\n",
        "    accuracy=round(accuracy,2)\n",
        "    precision = metrics.precision_score(y_test, y_predict)*100\n",
        "    precision=round(precision,2)\n",
        "    recall = metrics.recall_score(y_test, y_predict)*100\n",
        "    recall=round(recall,2)\n",
        "    f1_score=metrics.f1_score(y_test, y_predict)*100\n",
        "    f1_score=round(f1_score,2)\n",
        "    results.append([name,accuracy,precision,recall,f1_score])\n",
        "final = pd.DataFrame(results, columns=['Classifier','Accuracy ','Precision','Recall','F1_score'])\n",
        "final.style.background_gradient(cmap='Pastel1')"
      ],
      "execution_count": 0,
      "outputs": [
        {
          "output_type": "execute_result",
          "data": {
            "text/html": [
              "<style  type=\"text/css\" >\n",
              "    #T_fd3aba3e_8aad_11ea_afd0_0242ac1c0002row0_col1 {\n",
              "            background-color:  #ffffcc;\n",
              "            color:  #000000;\n",
              "        }    #T_fd3aba3e_8aad_11ea_afd0_0242ac1c0002row0_col2 {\n",
              "            background-color:  #fbb4ae;\n",
              "            color:  #000000;\n",
              "        }    #T_fd3aba3e_8aad_11ea_afd0_0242ac1c0002row0_col3 {\n",
              "            background-color:  #b3cde3;\n",
              "            color:  #000000;\n",
              "        }    #T_fd3aba3e_8aad_11ea_afd0_0242ac1c0002row0_col4 {\n",
              "            background-color:  #b3cde3;\n",
              "            color:  #000000;\n",
              "        }    #T_fd3aba3e_8aad_11ea_afd0_0242ac1c0002row1_col1 {\n",
              "            background-color:  #f2f2f2;\n",
              "            color:  #000000;\n",
              "        }    #T_fd3aba3e_8aad_11ea_afd0_0242ac1c0002row1_col2 {\n",
              "            background-color:  #decbe4;\n",
              "            color:  #000000;\n",
              "        }    #T_fd3aba3e_8aad_11ea_afd0_0242ac1c0002row1_col3 {\n",
              "            background-color:  #fbb4ae;\n",
              "            color:  #000000;\n",
              "        }    #T_fd3aba3e_8aad_11ea_afd0_0242ac1c0002row1_col4 {\n",
              "            background-color:  #fbb4ae;\n",
              "            color:  #000000;\n",
              "        }    #T_fd3aba3e_8aad_11ea_afd0_0242ac1c0002row2_col1 {\n",
              "            background-color:  #fbb4ae;\n",
              "            color:  #000000;\n",
              "        }    #T_fd3aba3e_8aad_11ea_afd0_0242ac1c0002row2_col2 {\n",
              "            background-color:  #ccebc5;\n",
              "            color:  #000000;\n",
              "        }    #T_fd3aba3e_8aad_11ea_afd0_0242ac1c0002row2_col3 {\n",
              "            background-color:  #f2f2f2;\n",
              "            color:  #000000;\n",
              "        }    #T_fd3aba3e_8aad_11ea_afd0_0242ac1c0002row2_col4 {\n",
              "            background-color:  #f2f2f2;\n",
              "            color:  #000000;\n",
              "        }    #T_fd3aba3e_8aad_11ea_afd0_0242ac1c0002row3_col1 {\n",
              "            background-color:  #f2f2f2;\n",
              "            color:  #000000;\n",
              "        }    #T_fd3aba3e_8aad_11ea_afd0_0242ac1c0002row3_col2 {\n",
              "            background-color:  #f2f2f2;\n",
              "            color:  #000000;\n",
              "        }    #T_fd3aba3e_8aad_11ea_afd0_0242ac1c0002row3_col3 {\n",
              "            background-color:  #b3cde3;\n",
              "            color:  #000000;\n",
              "        }    #T_fd3aba3e_8aad_11ea_afd0_0242ac1c0002row3_col4 {\n",
              "            background-color:  #e5d8bd;\n",
              "            color:  #000000;\n",
              "        }    #T_fd3aba3e_8aad_11ea_afd0_0242ac1c0002row4_col1 {\n",
              "            background-color:  #b3cde3;\n",
              "            color:  #000000;\n",
              "        }    #T_fd3aba3e_8aad_11ea_afd0_0242ac1c0002row4_col2 {\n",
              "            background-color:  #ccebc5;\n",
              "            color:  #000000;\n",
              "        }    #T_fd3aba3e_8aad_11ea_afd0_0242ac1c0002row4_col3 {\n",
              "            background-color:  #fddaec;\n",
              "            color:  #000000;\n",
              "        }    #T_fd3aba3e_8aad_11ea_afd0_0242ac1c0002row4_col4 {\n",
              "            background-color:  #f2f2f2;\n",
              "            color:  #000000;\n",
              "        }</style><table id=\"T_fd3aba3e_8aad_11ea_afd0_0242ac1c0002\" ><thead>    <tr>        <th class=\"blank level0\" ></th>        <th class=\"col_heading level0 col0\" >Classifier</th>        <th class=\"col_heading level0 col1\" >Accuracy </th>        <th class=\"col_heading level0 col2\" >Precision</th>        <th class=\"col_heading level0 col3\" >Recall</th>        <th class=\"col_heading level0 col4\" >F1_score</th>    </tr></thead><tbody>\n",
              "                <tr>\n",
              "                        <th id=\"T_fd3aba3e_8aad_11ea_afd0_0242ac1c0002level0_row0\" class=\"row_heading level0 row0\" >0</th>\n",
              "                        <td id=\"T_fd3aba3e_8aad_11ea_afd0_0242ac1c0002row0_col0\" class=\"data row0 col0\" >KNN</td>\n",
              "                        <td id=\"T_fd3aba3e_8aad_11ea_afd0_0242ac1c0002row0_col1\" class=\"data row0 col1\" >76.770000</td>\n",
              "                        <td id=\"T_fd3aba3e_8aad_11ea_afd0_0242ac1c0002row0_col2\" class=\"data row0 col2\" >17.650000</td>\n",
              "                        <td id=\"T_fd3aba3e_8aad_11ea_afd0_0242ac1c0002row0_col3\" class=\"data row0 col3\" >25.000000</td>\n",
              "                        <td id=\"T_fd3aba3e_8aad_11ea_afd0_0242ac1c0002row0_col4\" class=\"data row0 col4\" >20.690000</td>\n",
              "            </tr>\n",
              "            <tr>\n",
              "                        <th id=\"T_fd3aba3e_8aad_11ea_afd0_0242ac1c0002level0_row1\" class=\"row_heading level0 row1\" >1</th>\n",
              "                        <td id=\"T_fd3aba3e_8aad_11ea_afd0_0242ac1c0002row1_col0\" class=\"data row1 col0\" >Support Vector Classifier</td>\n",
              "                        <td id=\"T_fd3aba3e_8aad_11ea_afd0_0242ac1c0002row1_col1\" class=\"data row1 col1\" >82.830000</td>\n",
              "                        <td id=\"T_fd3aba3e_8aad_11ea_afd0_0242ac1c0002row1_col2\" class=\"data row1 col2\" >22.220000</td>\n",
              "                        <td id=\"T_fd3aba3e_8aad_11ea_afd0_0242ac1c0002row1_col3\" class=\"data row1 col3\" >16.670000</td>\n",
              "                        <td id=\"T_fd3aba3e_8aad_11ea_afd0_0242ac1c0002row1_col4\" class=\"data row1 col4\" >19.050000</td>\n",
              "            </tr>\n",
              "            <tr>\n",
              "                        <th id=\"T_fd3aba3e_8aad_11ea_afd0_0242ac1c0002level0_row2\" class=\"row_heading level0 row2\" >2</th>\n",
              "                        <td id=\"T_fd3aba3e_8aad_11ea_afd0_0242ac1c0002row2_col0\" class=\"data row2 col0\" >Logistic Regression</td>\n",
              "                        <td id=\"T_fd3aba3e_8aad_11ea_afd0_0242ac1c0002row2_col1\" class=\"data row2 col1\" >66.160000</td>\n",
              "                        <td id=\"T_fd3aba3e_8aad_11ea_afd0_0242ac1c0002row2_col2\" class=\"data row2 col2\" >21.330000</td>\n",
              "                        <td id=\"T_fd3aba3e_8aad_11ea_afd0_0242ac1c0002row2_col3\" class=\"data row2 col3\" >66.670000</td>\n",
              "                        <td id=\"T_fd3aba3e_8aad_11ea_afd0_0242ac1c0002row2_col4\" class=\"data row2 col4\" >32.320000</td>\n",
              "            </tr>\n",
              "            <tr>\n",
              "                        <th id=\"T_fd3aba3e_8aad_11ea_afd0_0242ac1c0002level0_row3\" class=\"row_heading level0 row3\" >3</th>\n",
              "                        <td id=\"T_fd3aba3e_8aad_11ea_afd0_0242ac1c0002row3_col0\" class=\"data row3 col0\" >Random Forest</td>\n",
              "                        <td id=\"T_fd3aba3e_8aad_11ea_afd0_0242ac1c0002row3_col1\" class=\"data row3 col1\" >83.330000</td>\n",
              "                        <td id=\"T_fd3aba3e_8aad_11ea_afd0_0242ac1c0002row3_col2\" class=\"data row3 col2\" >29.550000</td>\n",
              "                        <td id=\"T_fd3aba3e_8aad_11ea_afd0_0242ac1c0002row3_col3\" class=\"data row3 col3\" >27.080000</td>\n",
              "                        <td id=\"T_fd3aba3e_8aad_11ea_afd0_0242ac1c0002row3_col4\" class=\"data row3 col4\" >28.260000</td>\n",
              "            </tr>\n",
              "            <tr>\n",
              "                        <th id=\"T_fd3aba3e_8aad_11ea_afd0_0242ac1c0002level0_row4\" class=\"row_heading level0 row4\" >4</th>\n",
              "                        <td id=\"T_fd3aba3e_8aad_11ea_afd0_0242ac1c0002row4_col0\" class=\"data row4 col0\" >Decision Tree</td>\n",
              "                        <td id=\"T_fd3aba3e_8aad_11ea_afd0_0242ac1c0002row4_col1\" class=\"data row4 col1\" >68.940000</td>\n",
              "                        <td id=\"T_fd3aba3e_8aad_11ea_afd0_0242ac1c0002row4_col2\" class=\"data row4 col2\" >21.370000</td>\n",
              "                        <td id=\"T_fd3aba3e_8aad_11ea_afd0_0242ac1c0002row4_col3\" class=\"data row4 col3\" >58.330000</td>\n",
              "                        <td id=\"T_fd3aba3e_8aad_11ea_afd0_0242ac1c0002row4_col4\" class=\"data row4 col4\" >31.280000</td>\n",
              "            </tr>\n",
              "    </tbody></table>"
            ],
            "text/plain": [
              "<pandas.io.formats.style.Styler at 0x7f3407769908>"
            ]
          },
          "metadata": {
            "tags": []
          },
          "execution_count": 67
        }
      ]
    },
    {
      "cell_type": "code",
      "metadata": {
        "id": "DhC7is23O7xq",
        "colab_type": "code",
        "colab": {}
      },
      "source": [
        ""
      ],
      "execution_count": 0,
      "outputs": []
    },
    {
      "cell_type": "code",
      "metadata": {
        "id": "Mw7e5t8qO7yb",
        "colab_type": "code",
        "colab": {}
      },
      "source": [
        ""
      ],
      "execution_count": 0,
      "outputs": []
    }
  ]
}